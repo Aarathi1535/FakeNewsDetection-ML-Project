{
 "cells": [
  {
   "cell_type": "code",
   "execution_count": 1,
   "id": "e6feb0d7",
   "metadata": {},
   "outputs": [
    {
     "data": {
      "text/html": [
       "<div>\n",
       "<style scoped>\n",
       "    .dataframe tbody tr th:only-of-type {\n",
       "        vertical-align: middle;\n",
       "    }\n",
       "\n",
       "    .dataframe tbody tr th {\n",
       "        vertical-align: top;\n",
       "    }\n",
       "\n",
       "    .dataframe thead th {\n",
       "        text-align: right;\n",
       "    }\n",
       "</style>\n",
       "<table border=\"1\" class=\"dataframe\">\n",
       "  <thead>\n",
       "    <tr style=\"text-align: right;\">\n",
       "      <th></th>\n",
       "      <th>title</th>\n",
       "      <th>news_url</th>\n",
       "      <th>source_domain</th>\n",
       "      <th>tweet_num</th>\n",
       "      <th>real</th>\n",
       "    </tr>\n",
       "  </thead>\n",
       "  <tbody>\n",
       "    <tr>\n",
       "      <th>0</th>\n",
       "      <td>Kandi Burruss Explodes Over Rape Accusation on...</td>\n",
       "      <td>http://toofab.com/2017/05/08/real-housewives-a...</td>\n",
       "      <td>toofab.com</td>\n",
       "      <td>42</td>\n",
       "      <td>1</td>\n",
       "    </tr>\n",
       "    <tr>\n",
       "      <th>1</th>\n",
       "      <td>People's Choice Awards 2018: The best red carp...</td>\n",
       "      <td>https://www.today.com/style/see-people-s-choic...</td>\n",
       "      <td>www.today.com</td>\n",
       "      <td>0</td>\n",
       "      <td>1</td>\n",
       "    </tr>\n",
       "    <tr>\n",
       "      <th>2</th>\n",
       "      <td>Sophia Bush Sends Sweet Birthday Message to 'O...</td>\n",
       "      <td>https://www.etonline.com/news/220806_sophia_bu...</td>\n",
       "      <td>www.etonline.com</td>\n",
       "      <td>63</td>\n",
       "      <td>1</td>\n",
       "    </tr>\n",
       "    <tr>\n",
       "      <th>3</th>\n",
       "      <td>Colombian singer Maluma sparks rumours of inap...</td>\n",
       "      <td>https://www.dailymail.co.uk/news/article-33655...</td>\n",
       "      <td>www.dailymail.co.uk</td>\n",
       "      <td>20</td>\n",
       "      <td>1</td>\n",
       "    </tr>\n",
       "    <tr>\n",
       "      <th>4</th>\n",
       "      <td>Gossip Girl 10 Years Later: How Upper East Sid...</td>\n",
       "      <td>https://www.zerchoo.com/entertainment/gossip-g...</td>\n",
       "      <td>www.zerchoo.com</td>\n",
       "      <td>38</td>\n",
       "      <td>1</td>\n",
       "    </tr>\n",
       "  </tbody>\n",
       "</table>\n",
       "</div>"
      ],
      "text/plain": [
       "                                               title  \\\n",
       "0  Kandi Burruss Explodes Over Rape Accusation on...   \n",
       "1  People's Choice Awards 2018: The best red carp...   \n",
       "2  Sophia Bush Sends Sweet Birthday Message to 'O...   \n",
       "3  Colombian singer Maluma sparks rumours of inap...   \n",
       "4  Gossip Girl 10 Years Later: How Upper East Sid...   \n",
       "\n",
       "                                            news_url        source_domain  \\\n",
       "0  http://toofab.com/2017/05/08/real-housewives-a...           toofab.com   \n",
       "1  https://www.today.com/style/see-people-s-choic...        www.today.com   \n",
       "2  https://www.etonline.com/news/220806_sophia_bu...     www.etonline.com   \n",
       "3  https://www.dailymail.co.uk/news/article-33655...  www.dailymail.co.uk   \n",
       "4  https://www.zerchoo.com/entertainment/gossip-g...      www.zerchoo.com   \n",
       "\n",
       "   tweet_num  real  \n",
       "0         42     1  \n",
       "1          0     1  \n",
       "2         63     1  \n",
       "3         20     1  \n",
       "4         38     1  "
      ]
     },
     "execution_count": 1,
     "metadata": {},
     "output_type": "execute_result"
    }
   ],
   "source": [
    "import pandas as pd\n",
    "df = pd.read_csv(r\"C:\\Users\\hp\\Downloads\\FakeNewsNet.csv\")\n",
    "df.head()\n"
   ]
  },
  {
   "cell_type": "code",
   "execution_count": 2,
   "id": "d93e676f",
   "metadata": {},
   "outputs": [
    {
     "data": {
      "text/html": [
       "<div>\n",
       "<style scoped>\n",
       "    .dataframe tbody tr th:only-of-type {\n",
       "        vertical-align: middle;\n",
       "    }\n",
       "\n",
       "    .dataframe tbody tr th {\n",
       "        vertical-align: top;\n",
       "    }\n",
       "\n",
       "    .dataframe thead th {\n",
       "        text-align: right;\n",
       "    }\n",
       "</style>\n",
       "<table border=\"1\" class=\"dataframe\">\n",
       "  <thead>\n",
       "    <tr style=\"text-align: right;\">\n",
       "      <th></th>\n",
       "      <th>tweet_num</th>\n",
       "      <th>real</th>\n",
       "    </tr>\n",
       "  </thead>\n",
       "  <tbody>\n",
       "    <tr>\n",
       "      <th>count</th>\n",
       "      <td>23196.000000</td>\n",
       "      <td>23196.000000</td>\n",
       "    </tr>\n",
       "    <tr>\n",
       "      <th>mean</th>\n",
       "      <td>88.956803</td>\n",
       "      <td>0.751897</td>\n",
       "    </tr>\n",
       "    <tr>\n",
       "      <th>std</th>\n",
       "      <td>488.694592</td>\n",
       "      <td>0.431921</td>\n",
       "    </tr>\n",
       "    <tr>\n",
       "      <th>min</th>\n",
       "      <td>0.000000</td>\n",
       "      <td>0.000000</td>\n",
       "    </tr>\n",
       "    <tr>\n",
       "      <th>25%</th>\n",
       "      <td>11.000000</td>\n",
       "      <td>1.000000</td>\n",
       "    </tr>\n",
       "    <tr>\n",
       "      <th>50%</th>\n",
       "      <td>37.000000</td>\n",
       "      <td>1.000000</td>\n",
       "    </tr>\n",
       "    <tr>\n",
       "      <th>75%</th>\n",
       "      <td>65.000000</td>\n",
       "      <td>1.000000</td>\n",
       "    </tr>\n",
       "    <tr>\n",
       "      <th>max</th>\n",
       "      <td>29060.000000</td>\n",
       "      <td>1.000000</td>\n",
       "    </tr>\n",
       "  </tbody>\n",
       "</table>\n",
       "</div>"
      ],
      "text/plain": [
       "          tweet_num          real\n",
       "count  23196.000000  23196.000000\n",
       "mean      88.956803      0.751897\n",
       "std      488.694592      0.431921\n",
       "min        0.000000      0.000000\n",
       "25%       11.000000      1.000000\n",
       "50%       37.000000      1.000000\n",
       "75%       65.000000      1.000000\n",
       "max    29060.000000      1.000000"
      ]
     },
     "execution_count": 2,
     "metadata": {},
     "output_type": "execute_result"
    }
   ],
   "source": [
    "df.describe()\n"
   ]
  },
  {
   "cell_type": "code",
   "execution_count": 3,
   "id": "3a0444f4",
   "metadata": {},
   "outputs": [
    {
     "data": {
      "text/plain": [
       "(23196, 5)"
      ]
     },
     "execution_count": 3,
     "metadata": {},
     "output_type": "execute_result"
    }
   ],
   "source": [
    "df.shape\n"
   ]
  },
  {
   "cell_type": "code",
   "execution_count": 4,
   "id": "ff6410a7",
   "metadata": {},
   "outputs": [
    {
     "data": {
      "text/plain": [
       "title            False\n",
       "news_url          True\n",
       "source_domain     True\n",
       "tweet_num        False\n",
       "real             False\n",
       "dtype: bool"
      ]
     },
     "execution_count": 4,
     "metadata": {},
     "output_type": "execute_result"
    }
   ],
   "source": [
    "df.isnull().any()\n"
   ]
  },
  {
   "cell_type": "code",
   "execution_count": 5,
   "id": "b2fadfb8",
   "metadata": {},
   "outputs": [
    {
     "data": {
      "text/plain": [
       "title              0\n",
       "news_url         330\n",
       "source_domain    330\n",
       "tweet_num          0\n",
       "real               0\n",
       "dtype: int64"
      ]
     },
     "execution_count": 5,
     "metadata": {},
     "output_type": "execute_result"
    }
   ],
   "source": [
    "df.isnull().sum()"
   ]
  },
  {
   "cell_type": "code",
   "execution_count": 6,
   "id": "beb468f7",
   "metadata": {},
   "outputs": [],
   "source": [
    "df1 = df.dropna()\n"
   ]
  },
  {
   "cell_type": "code",
   "execution_count": 7,
   "id": "6170ecb6",
   "metadata": {},
   "outputs": [
    {
     "data": {
      "text/plain": [
       "title            0\n",
       "news_url         0\n",
       "source_domain    0\n",
       "tweet_num        0\n",
       "real             0\n",
       "dtype: int64"
      ]
     },
     "execution_count": 7,
     "metadata": {},
     "output_type": "execute_result"
    }
   ],
   "source": [
    "df1.isnull().sum()\n"
   ]
  },
  {
   "cell_type": "code",
   "execution_count": 8,
   "id": "6aa0a4e9",
   "metadata": {},
   "outputs": [
    {
     "data": {
      "text/html": [
       "<div>\n",
       "<style scoped>\n",
       "    .dataframe tbody tr th:only-of-type {\n",
       "        vertical-align: middle;\n",
       "    }\n",
       "\n",
       "    .dataframe tbody tr th {\n",
       "        vertical-align: top;\n",
       "    }\n",
       "\n",
       "    .dataframe thead th {\n",
       "        text-align: right;\n",
       "    }\n",
       "</style>\n",
       "<table border=\"1\" class=\"dataframe\">\n",
       "  <thead>\n",
       "    <tr style=\"text-align: right;\">\n",
       "      <th></th>\n",
       "      <th>title</th>\n",
       "      <th>news_url</th>\n",
       "      <th>source_domain</th>\n",
       "      <th>tweet_num</th>\n",
       "      <th>real</th>\n",
       "    </tr>\n",
       "  </thead>\n",
       "  <tbody>\n",
       "    <tr>\n",
       "      <th>0</th>\n",
       "      <td>Kandi Burruss Explodes Over Rape Accusation on...</td>\n",
       "      <td>http://toofab.com/2017/05/08/real-housewives-a...</td>\n",
       "      <td>toofab.com</td>\n",
       "      <td>42</td>\n",
       "      <td>1</td>\n",
       "    </tr>\n",
       "    <tr>\n",
       "      <th>1</th>\n",
       "      <td>People's Choice Awards 2018: The best red carp...</td>\n",
       "      <td>https://www.today.com/style/see-people-s-choic...</td>\n",
       "      <td>www.today.com</td>\n",
       "      <td>0</td>\n",
       "      <td>1</td>\n",
       "    </tr>\n",
       "    <tr>\n",
       "      <th>2</th>\n",
       "      <td>Sophia Bush Sends Sweet Birthday Message to 'O...</td>\n",
       "      <td>https://www.etonline.com/news/220806_sophia_bu...</td>\n",
       "      <td>www.etonline.com</td>\n",
       "      <td>63</td>\n",
       "      <td>1</td>\n",
       "    </tr>\n",
       "    <tr>\n",
       "      <th>3</th>\n",
       "      <td>Colombian singer Maluma sparks rumours of inap...</td>\n",
       "      <td>https://www.dailymail.co.uk/news/article-33655...</td>\n",
       "      <td>www.dailymail.co.uk</td>\n",
       "      <td>20</td>\n",
       "      <td>1</td>\n",
       "    </tr>\n",
       "    <tr>\n",
       "      <th>4</th>\n",
       "      <td>Gossip Girl 10 Years Later: How Upper East Sid...</td>\n",
       "      <td>https://www.zerchoo.com/entertainment/gossip-g...</td>\n",
       "      <td>www.zerchoo.com</td>\n",
       "      <td>38</td>\n",
       "      <td>1</td>\n",
       "    </tr>\n",
       "  </tbody>\n",
       "</table>\n",
       "</div>"
      ],
      "text/plain": [
       "                                               title  \\\n",
       "0  Kandi Burruss Explodes Over Rape Accusation on...   \n",
       "1  People's Choice Awards 2018: The best red carp...   \n",
       "2  Sophia Bush Sends Sweet Birthday Message to 'O...   \n",
       "3  Colombian singer Maluma sparks rumours of inap...   \n",
       "4  Gossip Girl 10 Years Later: How Upper East Sid...   \n",
       "\n",
       "                                            news_url        source_domain  \\\n",
       "0  http://toofab.com/2017/05/08/real-housewives-a...           toofab.com   \n",
       "1  https://www.today.com/style/see-people-s-choic...        www.today.com   \n",
       "2  https://www.etonline.com/news/220806_sophia_bu...     www.etonline.com   \n",
       "3  https://www.dailymail.co.uk/news/article-33655...  www.dailymail.co.uk   \n",
       "4  https://www.zerchoo.com/entertainment/gossip-g...      www.zerchoo.com   \n",
       "\n",
       "   tweet_num  real  \n",
       "0         42     1  \n",
       "1          0     1  \n",
       "2         63     1  \n",
       "3         20     1  \n",
       "4         38     1  "
      ]
     },
     "execution_count": 8,
     "metadata": {},
     "output_type": "execute_result"
    }
   ],
   "source": [
    "df1.head()"
   ]
  },
  {
   "cell_type": "code",
   "execution_count": 9,
   "id": "911c7e8c",
   "metadata": {},
   "outputs": [
    {
     "data": {
      "text/plain": [
       "(22866, 5)"
      ]
     },
     "execution_count": 9,
     "metadata": {},
     "output_type": "execute_result"
    }
   ],
   "source": [
    "df1.shape"
   ]
  },
  {
   "cell_type": "code",
   "execution_count": 10,
   "id": "0eeccac9",
   "metadata": {},
   "outputs": [],
   "source": [
    "df2 = df1.drop(['title'],axis=1)"
   ]
  },
  {
   "cell_type": "code",
   "execution_count": 11,
   "id": "4ec7c2c5",
   "metadata": {},
   "outputs": [
    {
     "data": {
      "text/plain": [
       "(22866, 4)"
      ]
     },
     "execution_count": 11,
     "metadata": {},
     "output_type": "execute_result"
    }
   ],
   "source": [
    "df2.shape"
   ]
  },
  {
   "cell_type": "code",
   "execution_count": 12,
   "id": "3e73b735",
   "metadata": {},
   "outputs": [
    {
     "data": {
      "text/html": [
       "<div>\n",
       "<style scoped>\n",
       "    .dataframe tbody tr th:only-of-type {\n",
       "        vertical-align: middle;\n",
       "    }\n",
       "\n",
       "    .dataframe tbody tr th {\n",
       "        vertical-align: top;\n",
       "    }\n",
       "\n",
       "    .dataframe thead th {\n",
       "        text-align: right;\n",
       "    }\n",
       "</style>\n",
       "<table border=\"1\" class=\"dataframe\">\n",
       "  <thead>\n",
       "    <tr style=\"text-align: right;\">\n",
       "      <th></th>\n",
       "      <th>news_url</th>\n",
       "      <th>source_domain</th>\n",
       "      <th>tweet_num</th>\n",
       "      <th>real</th>\n",
       "    </tr>\n",
       "  </thead>\n",
       "  <tbody>\n",
       "    <tr>\n",
       "      <th>0</th>\n",
       "      <td>http://toofab.com/2017/05/08/real-housewives-a...</td>\n",
       "      <td>toofab.com</td>\n",
       "      <td>42</td>\n",
       "      <td>1</td>\n",
       "    </tr>\n",
       "    <tr>\n",
       "      <th>1</th>\n",
       "      <td>https://www.today.com/style/see-people-s-choic...</td>\n",
       "      <td>www.today.com</td>\n",
       "      <td>0</td>\n",
       "      <td>1</td>\n",
       "    </tr>\n",
       "    <tr>\n",
       "      <th>2</th>\n",
       "      <td>https://www.etonline.com/news/220806_sophia_bu...</td>\n",
       "      <td>www.etonline.com</td>\n",
       "      <td>63</td>\n",
       "      <td>1</td>\n",
       "    </tr>\n",
       "    <tr>\n",
       "      <th>3</th>\n",
       "      <td>https://www.dailymail.co.uk/news/article-33655...</td>\n",
       "      <td>www.dailymail.co.uk</td>\n",
       "      <td>20</td>\n",
       "      <td>1</td>\n",
       "    </tr>\n",
       "    <tr>\n",
       "      <th>4</th>\n",
       "      <td>https://www.zerchoo.com/entertainment/gossip-g...</td>\n",
       "      <td>www.zerchoo.com</td>\n",
       "      <td>38</td>\n",
       "      <td>1</td>\n",
       "    </tr>\n",
       "  </tbody>\n",
       "</table>\n",
       "</div>"
      ],
      "text/plain": [
       "                                            news_url        source_domain  \\\n",
       "0  http://toofab.com/2017/05/08/real-housewives-a...           toofab.com   \n",
       "1  https://www.today.com/style/see-people-s-choic...        www.today.com   \n",
       "2  https://www.etonline.com/news/220806_sophia_bu...     www.etonline.com   \n",
       "3  https://www.dailymail.co.uk/news/article-33655...  www.dailymail.co.uk   \n",
       "4  https://www.zerchoo.com/entertainment/gossip-g...      www.zerchoo.com   \n",
       "\n",
       "   tweet_num  real  \n",
       "0         42     1  \n",
       "1          0     1  \n",
       "2         63     1  \n",
       "3         20     1  \n",
       "4         38     1  "
      ]
     },
     "execution_count": 12,
     "metadata": {},
     "output_type": "execute_result"
    }
   ],
   "source": [
    "df2.head()"
   ]
  },
  {
   "cell_type": "code",
   "execution_count": 13,
   "id": "6690ef93",
   "metadata": {},
   "outputs": [
    {
     "data": {
      "text/plain": [
       "count    22866.000000\n",
       "mean        88.398802\n",
       "std        488.712092\n",
       "min          0.000000\n",
       "25%         11.000000\n",
       "50%         38.000000\n",
       "75%         65.000000\n",
       "max      29060.000000\n",
       "Name: tweet_num, dtype: float64"
      ]
     },
     "execution_count": 13,
     "metadata": {},
     "output_type": "execute_result"
    }
   ],
   "source": [
    "df2.tweet_num.describe()"
   ]
  },
  {
   "cell_type": "code",
   "execution_count": 14,
   "id": "872aaa08",
   "metadata": {},
   "outputs": [
    {
     "data": {
      "text/html": [
       "<div>\n",
       "<style scoped>\n",
       "    .dataframe tbody tr th:only-of-type {\n",
       "        vertical-align: middle;\n",
       "    }\n",
       "\n",
       "    .dataframe tbody tr th {\n",
       "        vertical-align: top;\n",
       "    }\n",
       "\n",
       "    .dataframe thead th {\n",
       "        text-align: right;\n",
       "    }\n",
       "</style>\n",
       "<table border=\"1\" class=\"dataframe\">\n",
       "  <thead>\n",
       "    <tr style=\"text-align: right;\">\n",
       "      <th></th>\n",
       "      <th>news_url</th>\n",
       "      <th>source_domain</th>\n",
       "      <th>tweet_num</th>\n",
       "      <th>real</th>\n",
       "    </tr>\n",
       "  </thead>\n",
       "  <tbody>\n",
       "    <tr>\n",
       "      <th>0</th>\n",
       "      <td>http://toofab.com/2017/05/08/real-housewives-a...</td>\n",
       "      <td>toofab.com</td>\n",
       "      <td>42</td>\n",
       "      <td>1</td>\n",
       "    </tr>\n",
       "    <tr>\n",
       "      <th>1</th>\n",
       "      <td>https://www.today.com/style/see-people-s-choic...</td>\n",
       "      <td>www.today.com</td>\n",
       "      <td>0</td>\n",
       "      <td>1</td>\n",
       "    </tr>\n",
       "    <tr>\n",
       "      <th>2</th>\n",
       "      <td>https://www.etonline.com/news/220806_sophia_bu...</td>\n",
       "      <td>www.etonline.com</td>\n",
       "      <td>63</td>\n",
       "      <td>1</td>\n",
       "    </tr>\n",
       "    <tr>\n",
       "      <th>3</th>\n",
       "      <td>https://www.dailymail.co.uk/news/article-33655...</td>\n",
       "      <td>www.dailymail.co.uk</td>\n",
       "      <td>20</td>\n",
       "      <td>1</td>\n",
       "    </tr>\n",
       "    <tr>\n",
       "      <th>4</th>\n",
       "      <td>https://www.zerchoo.com/entertainment/gossip-g...</td>\n",
       "      <td>www.zerchoo.com</td>\n",
       "      <td>38</td>\n",
       "      <td>1</td>\n",
       "    </tr>\n",
       "    <tr>\n",
       "      <th>5</th>\n",
       "      <td>www.intouchweekly.com/posts/gwen-stefani-dumpe...</td>\n",
       "      <td>www.intouchweekly.com</td>\n",
       "      <td>45</td>\n",
       "      <td>0</td>\n",
       "    </tr>\n",
       "    <tr>\n",
       "      <th>6</th>\n",
       "      <td>https://yournewswire.com/broward-county-sherif...</td>\n",
       "      <td>yournewswire.com</td>\n",
       "      <td>124</td>\n",
       "      <td>0</td>\n",
       "    </tr>\n",
       "    <tr>\n",
       "      <th>7</th>\n",
       "      <td>www.etonline.com/news/214798_amber_rose_shuts_...</td>\n",
       "      <td>www.etonline.com</td>\n",
       "      <td>4</td>\n",
       "      <td>0</td>\n",
       "    </tr>\n",
       "    <tr>\n",
       "      <th>8</th>\n",
       "      <td>https://www.aol.com/article/entertainment/2018...</td>\n",
       "      <td>www.aol.com</td>\n",
       "      <td>59</td>\n",
       "      <td>1</td>\n",
       "    </tr>\n",
       "    <tr>\n",
       "      <th>9</th>\n",
       "      <td>https://www.98online.com/2018/05/02/katharine-...</td>\n",
       "      <td>www.98online.com</td>\n",
       "      <td>10</td>\n",
       "      <td>1</td>\n",
       "    </tr>\n",
       "    <tr>\n",
       "      <th>10</th>\n",
       "      <td>https://www.usmagazine.com/celebrity-news/news...</td>\n",
       "      <td>www.usmagazine.com</td>\n",
       "      <td>18</td>\n",
       "      <td>1</td>\n",
       "    </tr>\n",
       "    <tr>\n",
       "      <th>11</th>\n",
       "      <td>yournewswire.com/mel-gibson-hollywood-pedophiles/</td>\n",
       "      <td>yournewswire.com</td>\n",
       "      <td>95</td>\n",
       "      <td>0</td>\n",
       "    </tr>\n",
       "    <tr>\n",
       "      <th>12</th>\n",
       "      <td>https://perezhilton.com/tyler-henry-says-krist...</td>\n",
       "      <td>perezhilton.com</td>\n",
       "      <td>4</td>\n",
       "      <td>1</td>\n",
       "    </tr>\n",
       "    <tr>\n",
       "      <th>13</th>\n",
       "      <td>https://abc.go.com/shows/dancing-with-the-star...</td>\n",
       "      <td>abc.go.com</td>\n",
       "      <td>0</td>\n",
       "      <td>1</td>\n",
       "    </tr>\n",
       "    <tr>\n",
       "      <th>15</th>\n",
       "      <td>www.eonline.com/news/932478/5-reasons-why-tare...</td>\n",
       "      <td>www.eonline.com</td>\n",
       "      <td>63</td>\n",
       "      <td>0</td>\n",
       "    </tr>\n",
       "  </tbody>\n",
       "</table>\n",
       "</div>"
      ],
      "text/plain": [
       "                                             news_url          source_domain  \\\n",
       "0   http://toofab.com/2017/05/08/real-housewives-a...             toofab.com   \n",
       "1   https://www.today.com/style/see-people-s-choic...          www.today.com   \n",
       "2   https://www.etonline.com/news/220806_sophia_bu...       www.etonline.com   \n",
       "3   https://www.dailymail.co.uk/news/article-33655...    www.dailymail.co.uk   \n",
       "4   https://www.zerchoo.com/entertainment/gossip-g...        www.zerchoo.com   \n",
       "5   www.intouchweekly.com/posts/gwen-stefani-dumpe...  www.intouchweekly.com   \n",
       "6   https://yournewswire.com/broward-county-sherif...       yournewswire.com   \n",
       "7   www.etonline.com/news/214798_amber_rose_shuts_...       www.etonline.com   \n",
       "8   https://www.aol.com/article/entertainment/2018...            www.aol.com   \n",
       "9   https://www.98online.com/2018/05/02/katharine-...       www.98online.com   \n",
       "10  https://www.usmagazine.com/celebrity-news/news...     www.usmagazine.com   \n",
       "11  yournewswire.com/mel-gibson-hollywood-pedophiles/       yournewswire.com   \n",
       "12  https://perezhilton.com/tyler-henry-says-krist...        perezhilton.com   \n",
       "13  https://abc.go.com/shows/dancing-with-the-star...             abc.go.com   \n",
       "15  www.eonline.com/news/932478/5-reasons-why-tare...        www.eonline.com   \n",
       "\n",
       "    tweet_num  real  \n",
       "0          42     1  \n",
       "1           0     1  \n",
       "2          63     1  \n",
       "3          20     1  \n",
       "4          38     1  \n",
       "5          45     0  \n",
       "6         124     0  \n",
       "7           4     0  \n",
       "8          59     1  \n",
       "9          10     1  \n",
       "10         18     1  \n",
       "11         95     0  \n",
       "12          4     1  \n",
       "13          0     1  \n",
       "15         63     0  "
      ]
     },
     "execution_count": 14,
     "metadata": {},
     "output_type": "execute_result"
    }
   ],
   "source": [
    "df2.head(15)"
   ]
  },
  {
   "cell_type": "code",
   "execution_count": 15,
   "id": "4086c8a2",
   "metadata": {},
   "outputs": [],
   "source": [
    "def news(x):\n",
    "    if 'http' in x:\n",
    "        return 1\n",
    "    else:\n",
    "        return 0"
   ]
  },
  {
   "cell_type": "code",
   "execution_count": 16,
   "id": "e34e2a07",
   "metadata": {},
   "outputs": [],
   "source": [
    "df2['detect'] = df2['news_url'].apply(news)"
   ]
  },
  {
   "cell_type": "code",
   "execution_count": 17,
   "id": "0e85504c",
   "metadata": {},
   "outputs": [
    {
     "data": {
      "text/plain": [
       "(22866, 5)"
      ]
     },
     "execution_count": 17,
     "metadata": {},
     "output_type": "execute_result"
    }
   ],
   "source": [
    "df2.shape"
   ]
  },
  {
   "cell_type": "code",
   "execution_count": 18,
   "id": "0595c3c4",
   "metadata": {},
   "outputs": [
    {
     "data": {
      "text/html": [
       "<div>\n",
       "<style scoped>\n",
       "    .dataframe tbody tr th:only-of-type {\n",
       "        vertical-align: middle;\n",
       "    }\n",
       "\n",
       "    .dataframe tbody tr th {\n",
       "        vertical-align: top;\n",
       "    }\n",
       "\n",
       "    .dataframe thead th {\n",
       "        text-align: right;\n",
       "    }\n",
       "</style>\n",
       "<table border=\"1\" class=\"dataframe\">\n",
       "  <thead>\n",
       "    <tr style=\"text-align: right;\">\n",
       "      <th></th>\n",
       "      <th>news_url</th>\n",
       "      <th>source_domain</th>\n",
       "      <th>tweet_num</th>\n",
       "      <th>real</th>\n",
       "      <th>detect</th>\n",
       "    </tr>\n",
       "  </thead>\n",
       "  <tbody>\n",
       "    <tr>\n",
       "      <th>0</th>\n",
       "      <td>http://toofab.com/2017/05/08/real-housewives-a...</td>\n",
       "      <td>toofab.com</td>\n",
       "      <td>42</td>\n",
       "      <td>1</td>\n",
       "      <td>1</td>\n",
       "    </tr>\n",
       "    <tr>\n",
       "      <th>1</th>\n",
       "      <td>https://www.today.com/style/see-people-s-choic...</td>\n",
       "      <td>www.today.com</td>\n",
       "      <td>0</td>\n",
       "      <td>1</td>\n",
       "      <td>1</td>\n",
       "    </tr>\n",
       "    <tr>\n",
       "      <th>2</th>\n",
       "      <td>https://www.etonline.com/news/220806_sophia_bu...</td>\n",
       "      <td>www.etonline.com</td>\n",
       "      <td>63</td>\n",
       "      <td>1</td>\n",
       "      <td>1</td>\n",
       "    </tr>\n",
       "    <tr>\n",
       "      <th>3</th>\n",
       "      <td>https://www.dailymail.co.uk/news/article-33655...</td>\n",
       "      <td>www.dailymail.co.uk</td>\n",
       "      <td>20</td>\n",
       "      <td>1</td>\n",
       "      <td>1</td>\n",
       "    </tr>\n",
       "    <tr>\n",
       "      <th>4</th>\n",
       "      <td>https://www.zerchoo.com/entertainment/gossip-g...</td>\n",
       "      <td>www.zerchoo.com</td>\n",
       "      <td>38</td>\n",
       "      <td>1</td>\n",
       "      <td>1</td>\n",
       "    </tr>\n",
       "    <tr>\n",
       "      <th>5</th>\n",
       "      <td>www.intouchweekly.com/posts/gwen-stefani-dumpe...</td>\n",
       "      <td>www.intouchweekly.com</td>\n",
       "      <td>45</td>\n",
       "      <td>0</td>\n",
       "      <td>0</td>\n",
       "    </tr>\n",
       "    <tr>\n",
       "      <th>6</th>\n",
       "      <td>https://yournewswire.com/broward-county-sherif...</td>\n",
       "      <td>yournewswire.com</td>\n",
       "      <td>124</td>\n",
       "      <td>0</td>\n",
       "      <td>1</td>\n",
       "    </tr>\n",
       "    <tr>\n",
       "      <th>7</th>\n",
       "      <td>www.etonline.com/news/214798_amber_rose_shuts_...</td>\n",
       "      <td>www.etonline.com</td>\n",
       "      <td>4</td>\n",
       "      <td>0</td>\n",
       "      <td>0</td>\n",
       "    </tr>\n",
       "    <tr>\n",
       "      <th>8</th>\n",
       "      <td>https://www.aol.com/article/entertainment/2018...</td>\n",
       "      <td>www.aol.com</td>\n",
       "      <td>59</td>\n",
       "      <td>1</td>\n",
       "      <td>1</td>\n",
       "    </tr>\n",
       "    <tr>\n",
       "      <th>9</th>\n",
       "      <td>https://www.98online.com/2018/05/02/katharine-...</td>\n",
       "      <td>www.98online.com</td>\n",
       "      <td>10</td>\n",
       "      <td>1</td>\n",
       "      <td>1</td>\n",
       "    </tr>\n",
       "    <tr>\n",
       "      <th>10</th>\n",
       "      <td>https://www.usmagazine.com/celebrity-news/news...</td>\n",
       "      <td>www.usmagazine.com</td>\n",
       "      <td>18</td>\n",
       "      <td>1</td>\n",
       "      <td>1</td>\n",
       "    </tr>\n",
       "    <tr>\n",
       "      <th>11</th>\n",
       "      <td>yournewswire.com/mel-gibson-hollywood-pedophiles/</td>\n",
       "      <td>yournewswire.com</td>\n",
       "      <td>95</td>\n",
       "      <td>0</td>\n",
       "      <td>0</td>\n",
       "    </tr>\n",
       "    <tr>\n",
       "      <th>12</th>\n",
       "      <td>https://perezhilton.com/tyler-henry-says-krist...</td>\n",
       "      <td>perezhilton.com</td>\n",
       "      <td>4</td>\n",
       "      <td>1</td>\n",
       "      <td>1</td>\n",
       "    </tr>\n",
       "    <tr>\n",
       "      <th>13</th>\n",
       "      <td>https://abc.go.com/shows/dancing-with-the-star...</td>\n",
       "      <td>abc.go.com</td>\n",
       "      <td>0</td>\n",
       "      <td>1</td>\n",
       "      <td>1</td>\n",
       "    </tr>\n",
       "    <tr>\n",
       "      <th>15</th>\n",
       "      <td>www.eonline.com/news/932478/5-reasons-why-tare...</td>\n",
       "      <td>www.eonline.com</td>\n",
       "      <td>63</td>\n",
       "      <td>0</td>\n",
       "      <td>0</td>\n",
       "    </tr>\n",
       "  </tbody>\n",
       "</table>\n",
       "</div>"
      ],
      "text/plain": [
       "                                             news_url          source_domain  \\\n",
       "0   http://toofab.com/2017/05/08/real-housewives-a...             toofab.com   \n",
       "1   https://www.today.com/style/see-people-s-choic...          www.today.com   \n",
       "2   https://www.etonline.com/news/220806_sophia_bu...       www.etonline.com   \n",
       "3   https://www.dailymail.co.uk/news/article-33655...    www.dailymail.co.uk   \n",
       "4   https://www.zerchoo.com/entertainment/gossip-g...        www.zerchoo.com   \n",
       "5   www.intouchweekly.com/posts/gwen-stefani-dumpe...  www.intouchweekly.com   \n",
       "6   https://yournewswire.com/broward-county-sherif...       yournewswire.com   \n",
       "7   www.etonline.com/news/214798_amber_rose_shuts_...       www.etonline.com   \n",
       "8   https://www.aol.com/article/entertainment/2018...            www.aol.com   \n",
       "9   https://www.98online.com/2018/05/02/katharine-...       www.98online.com   \n",
       "10  https://www.usmagazine.com/celebrity-news/news...     www.usmagazine.com   \n",
       "11  yournewswire.com/mel-gibson-hollywood-pedophiles/       yournewswire.com   \n",
       "12  https://perezhilton.com/tyler-henry-says-krist...        perezhilton.com   \n",
       "13  https://abc.go.com/shows/dancing-with-the-star...             abc.go.com   \n",
       "15  www.eonline.com/news/932478/5-reasons-why-tare...        www.eonline.com   \n",
       "\n",
       "    tweet_num  real  detect  \n",
       "0          42     1       1  \n",
       "1           0     1       1  \n",
       "2          63     1       1  \n",
       "3          20     1       1  \n",
       "4          38     1       1  \n",
       "5          45     0       0  \n",
       "6         124     0       1  \n",
       "7           4     0       0  \n",
       "8          59     1       1  \n",
       "9          10     1       1  \n",
       "10         18     1       1  \n",
       "11         95     0       0  \n",
       "12          4     1       1  \n",
       "13          0     1       1  \n",
       "15         63     0       0  "
      ]
     },
     "execution_count": 18,
     "metadata": {},
     "output_type": "execute_result"
    }
   ],
   "source": [
    "df2.head(15)"
   ]
  },
  {
   "cell_type": "code",
   "execution_count": 19,
   "id": "21706b42",
   "metadata": {},
   "outputs": [],
   "source": [
    "df3 =df2.drop(df2[df2['detect']==0].index) "
   ]
  },
  {
   "cell_type": "code",
   "execution_count": 20,
   "id": "6756e84d",
   "metadata": {},
   "outputs": [
    {
     "data": {
      "text/html": [
       "<div>\n",
       "<style scoped>\n",
       "    .dataframe tbody tr th:only-of-type {\n",
       "        vertical-align: middle;\n",
       "    }\n",
       "\n",
       "    .dataframe tbody tr th {\n",
       "        vertical-align: top;\n",
       "    }\n",
       "\n",
       "    .dataframe thead th {\n",
       "        text-align: right;\n",
       "    }\n",
       "</style>\n",
       "<table border=\"1\" class=\"dataframe\">\n",
       "  <thead>\n",
       "    <tr style=\"text-align: right;\">\n",
       "      <th></th>\n",
       "      <th>news_url</th>\n",
       "      <th>source_domain</th>\n",
       "      <th>tweet_num</th>\n",
       "      <th>real</th>\n",
       "      <th>detect</th>\n",
       "    </tr>\n",
       "  </thead>\n",
       "  <tbody>\n",
       "    <tr>\n",
       "      <th>0</th>\n",
       "      <td>http://toofab.com/2017/05/08/real-housewives-a...</td>\n",
       "      <td>toofab.com</td>\n",
       "      <td>42</td>\n",
       "      <td>1</td>\n",
       "      <td>1</td>\n",
       "    </tr>\n",
       "    <tr>\n",
       "      <th>1</th>\n",
       "      <td>https://www.today.com/style/see-people-s-choic...</td>\n",
       "      <td>www.today.com</td>\n",
       "      <td>0</td>\n",
       "      <td>1</td>\n",
       "      <td>1</td>\n",
       "    </tr>\n",
       "    <tr>\n",
       "      <th>2</th>\n",
       "      <td>https://www.etonline.com/news/220806_sophia_bu...</td>\n",
       "      <td>www.etonline.com</td>\n",
       "      <td>63</td>\n",
       "      <td>1</td>\n",
       "      <td>1</td>\n",
       "    </tr>\n",
       "    <tr>\n",
       "      <th>3</th>\n",
       "      <td>https://www.dailymail.co.uk/news/article-33655...</td>\n",
       "      <td>www.dailymail.co.uk</td>\n",
       "      <td>20</td>\n",
       "      <td>1</td>\n",
       "      <td>1</td>\n",
       "    </tr>\n",
       "    <tr>\n",
       "      <th>4</th>\n",
       "      <td>https://www.zerchoo.com/entertainment/gossip-g...</td>\n",
       "      <td>www.zerchoo.com</td>\n",
       "      <td>38</td>\n",
       "      <td>1</td>\n",
       "      <td>1</td>\n",
       "    </tr>\n",
       "    <tr>\n",
       "      <th>6</th>\n",
       "      <td>https://yournewswire.com/broward-county-sherif...</td>\n",
       "      <td>yournewswire.com</td>\n",
       "      <td>124</td>\n",
       "      <td>0</td>\n",
       "      <td>1</td>\n",
       "    </tr>\n",
       "    <tr>\n",
       "      <th>8</th>\n",
       "      <td>https://www.aol.com/article/entertainment/2018...</td>\n",
       "      <td>www.aol.com</td>\n",
       "      <td>59</td>\n",
       "      <td>1</td>\n",
       "      <td>1</td>\n",
       "    </tr>\n",
       "    <tr>\n",
       "      <th>9</th>\n",
       "      <td>https://www.98online.com/2018/05/02/katharine-...</td>\n",
       "      <td>www.98online.com</td>\n",
       "      <td>10</td>\n",
       "      <td>1</td>\n",
       "      <td>1</td>\n",
       "    </tr>\n",
       "    <tr>\n",
       "      <th>10</th>\n",
       "      <td>https://www.usmagazine.com/celebrity-news/news...</td>\n",
       "      <td>www.usmagazine.com</td>\n",
       "      <td>18</td>\n",
       "      <td>1</td>\n",
       "      <td>1</td>\n",
       "    </tr>\n",
       "    <tr>\n",
       "      <th>12</th>\n",
       "      <td>https://perezhilton.com/tyler-henry-says-krist...</td>\n",
       "      <td>perezhilton.com</td>\n",
       "      <td>4</td>\n",
       "      <td>1</td>\n",
       "      <td>1</td>\n",
       "    </tr>\n",
       "    <tr>\n",
       "      <th>13</th>\n",
       "      <td>https://abc.go.com/shows/dancing-with-the-star...</td>\n",
       "      <td>abc.go.com</td>\n",
       "      <td>0</td>\n",
       "      <td>1</td>\n",
       "      <td>1</td>\n",
       "    </tr>\n",
       "    <tr>\n",
       "      <th>16</th>\n",
       "      <td>https://www.thesun.co.uk/news/5086439/david-ca...</td>\n",
       "      <td>www.thesun.co.uk</td>\n",
       "      <td>54</td>\n",
       "      <td>1</td>\n",
       "      <td>1</td>\n",
       "    </tr>\n",
       "    <tr>\n",
       "      <th>17</th>\n",
       "      <td>https://www.usatoday.com/story/life/people/201...</td>\n",
       "      <td>www.usatoday.com</td>\n",
       "      <td>64</td>\n",
       "      <td>1</td>\n",
       "      <td>1</td>\n",
       "    </tr>\n",
       "    <tr>\n",
       "      <th>18</th>\n",
       "      <td>https://web.archive.org/web/20171228144534/htt...</td>\n",
       "      <td>web.archive.org</td>\n",
       "      <td>1</td>\n",
       "      <td>0</td>\n",
       "      <td>1</td>\n",
       "    </tr>\n",
       "    <tr>\n",
       "      <th>20</th>\n",
       "      <td>https://celebmix.com/pink-announces-2018-tour-...</td>\n",
       "      <td>celebmix.com</td>\n",
       "      <td>120</td>\n",
       "      <td>1</td>\n",
       "      <td>1</td>\n",
       "    </tr>\n",
       "  </tbody>\n",
       "</table>\n",
       "</div>"
      ],
      "text/plain": [
       "                                             news_url        source_domain  \\\n",
       "0   http://toofab.com/2017/05/08/real-housewives-a...           toofab.com   \n",
       "1   https://www.today.com/style/see-people-s-choic...        www.today.com   \n",
       "2   https://www.etonline.com/news/220806_sophia_bu...     www.etonline.com   \n",
       "3   https://www.dailymail.co.uk/news/article-33655...  www.dailymail.co.uk   \n",
       "4   https://www.zerchoo.com/entertainment/gossip-g...      www.zerchoo.com   \n",
       "6   https://yournewswire.com/broward-county-sherif...     yournewswire.com   \n",
       "8   https://www.aol.com/article/entertainment/2018...          www.aol.com   \n",
       "9   https://www.98online.com/2018/05/02/katharine-...     www.98online.com   \n",
       "10  https://www.usmagazine.com/celebrity-news/news...   www.usmagazine.com   \n",
       "12  https://perezhilton.com/tyler-henry-says-krist...      perezhilton.com   \n",
       "13  https://abc.go.com/shows/dancing-with-the-star...           abc.go.com   \n",
       "16  https://www.thesun.co.uk/news/5086439/david-ca...     www.thesun.co.uk   \n",
       "17  https://www.usatoday.com/story/life/people/201...     www.usatoday.com   \n",
       "18  https://web.archive.org/web/20171228144534/htt...      web.archive.org   \n",
       "20  https://celebmix.com/pink-announces-2018-tour-...         celebmix.com   \n",
       "\n",
       "    tweet_num  real  detect  \n",
       "0          42     1       1  \n",
       "1           0     1       1  \n",
       "2          63     1       1  \n",
       "3          20     1       1  \n",
       "4          38     1       1  \n",
       "6         124     0       1  \n",
       "8          59     1       1  \n",
       "9          10     1       1  \n",
       "10         18     1       1  \n",
       "12          4     1       1  \n",
       "13          0     1       1  \n",
       "16         54     1       1  \n",
       "17         64     1       1  \n",
       "18          1     0       1  \n",
       "20        120     1       1  "
      ]
     },
     "execution_count": 20,
     "metadata": {},
     "output_type": "execute_result"
    }
   ],
   "source": [
    "df3.head(15)"
   ]
  },
  {
   "cell_type": "code",
   "execution_count": 21,
   "id": "d2ef8198",
   "metadata": {},
   "outputs": [],
   "source": [
    "df3 = df3.drop(['detect'],axis=1)\n"
   ]
  },
  {
   "cell_type": "code",
   "execution_count": 22,
   "id": "6053eb7c",
   "metadata": {},
   "outputs": [
    {
     "data": {
      "text/html": [
       "<div>\n",
       "<style scoped>\n",
       "    .dataframe tbody tr th:only-of-type {\n",
       "        vertical-align: middle;\n",
       "    }\n",
       "\n",
       "    .dataframe tbody tr th {\n",
       "        vertical-align: top;\n",
       "    }\n",
       "\n",
       "    .dataframe thead th {\n",
       "        text-align: right;\n",
       "    }\n",
       "</style>\n",
       "<table border=\"1\" class=\"dataframe\">\n",
       "  <thead>\n",
       "    <tr style=\"text-align: right;\">\n",
       "      <th></th>\n",
       "      <th>news_url</th>\n",
       "      <th>source_domain</th>\n",
       "      <th>tweet_num</th>\n",
       "      <th>real</th>\n",
       "    </tr>\n",
       "  </thead>\n",
       "  <tbody>\n",
       "    <tr>\n",
       "      <th>0</th>\n",
       "      <td>http://toofab.com/2017/05/08/real-housewives-a...</td>\n",
       "      <td>toofab.com</td>\n",
       "      <td>42</td>\n",
       "      <td>1</td>\n",
       "    </tr>\n",
       "    <tr>\n",
       "      <th>1</th>\n",
       "      <td>https://www.today.com/style/see-people-s-choic...</td>\n",
       "      <td>www.today.com</td>\n",
       "      <td>0</td>\n",
       "      <td>1</td>\n",
       "    </tr>\n",
       "    <tr>\n",
       "      <th>2</th>\n",
       "      <td>https://www.etonline.com/news/220806_sophia_bu...</td>\n",
       "      <td>www.etonline.com</td>\n",
       "      <td>63</td>\n",
       "      <td>1</td>\n",
       "    </tr>\n",
       "    <tr>\n",
       "      <th>3</th>\n",
       "      <td>https://www.dailymail.co.uk/news/article-33655...</td>\n",
       "      <td>www.dailymail.co.uk</td>\n",
       "      <td>20</td>\n",
       "      <td>1</td>\n",
       "    </tr>\n",
       "    <tr>\n",
       "      <th>4</th>\n",
       "      <td>https://www.zerchoo.com/entertainment/gossip-g...</td>\n",
       "      <td>www.zerchoo.com</td>\n",
       "      <td>38</td>\n",
       "      <td>1</td>\n",
       "    </tr>\n",
       "    <tr>\n",
       "      <th>6</th>\n",
       "      <td>https://yournewswire.com/broward-county-sherif...</td>\n",
       "      <td>yournewswire.com</td>\n",
       "      <td>124</td>\n",
       "      <td>0</td>\n",
       "    </tr>\n",
       "    <tr>\n",
       "      <th>8</th>\n",
       "      <td>https://www.aol.com/article/entertainment/2018...</td>\n",
       "      <td>www.aol.com</td>\n",
       "      <td>59</td>\n",
       "      <td>1</td>\n",
       "    </tr>\n",
       "    <tr>\n",
       "      <th>9</th>\n",
       "      <td>https://www.98online.com/2018/05/02/katharine-...</td>\n",
       "      <td>www.98online.com</td>\n",
       "      <td>10</td>\n",
       "      <td>1</td>\n",
       "    </tr>\n",
       "    <tr>\n",
       "      <th>10</th>\n",
       "      <td>https://www.usmagazine.com/celebrity-news/news...</td>\n",
       "      <td>www.usmagazine.com</td>\n",
       "      <td>18</td>\n",
       "      <td>1</td>\n",
       "    </tr>\n",
       "    <tr>\n",
       "      <th>12</th>\n",
       "      <td>https://perezhilton.com/tyler-henry-says-krist...</td>\n",
       "      <td>perezhilton.com</td>\n",
       "      <td>4</td>\n",
       "      <td>1</td>\n",
       "    </tr>\n",
       "    <tr>\n",
       "      <th>13</th>\n",
       "      <td>https://abc.go.com/shows/dancing-with-the-star...</td>\n",
       "      <td>abc.go.com</td>\n",
       "      <td>0</td>\n",
       "      <td>1</td>\n",
       "    </tr>\n",
       "    <tr>\n",
       "      <th>16</th>\n",
       "      <td>https://www.thesun.co.uk/news/5086439/david-ca...</td>\n",
       "      <td>www.thesun.co.uk</td>\n",
       "      <td>54</td>\n",
       "      <td>1</td>\n",
       "    </tr>\n",
       "    <tr>\n",
       "      <th>17</th>\n",
       "      <td>https://www.usatoday.com/story/life/people/201...</td>\n",
       "      <td>www.usatoday.com</td>\n",
       "      <td>64</td>\n",
       "      <td>1</td>\n",
       "    </tr>\n",
       "    <tr>\n",
       "      <th>18</th>\n",
       "      <td>https://web.archive.org/web/20171228144534/htt...</td>\n",
       "      <td>web.archive.org</td>\n",
       "      <td>1</td>\n",
       "      <td>0</td>\n",
       "    </tr>\n",
       "    <tr>\n",
       "      <th>20</th>\n",
       "      <td>https://celebmix.com/pink-announces-2018-tour-...</td>\n",
       "      <td>celebmix.com</td>\n",
       "      <td>120</td>\n",
       "      <td>1</td>\n",
       "    </tr>\n",
       "    <tr>\n",
       "      <th>22</th>\n",
       "      <td>https://www.dailymail.co.uk/tvshowbiz/article-...</td>\n",
       "      <td>www.dailymail.co.uk</td>\n",
       "      <td>91</td>\n",
       "      <td>1</td>\n",
       "    </tr>\n",
       "    <tr>\n",
       "      <th>24</th>\n",
       "      <td>https://www.msn.com/en-us/tv/celebrity/ryan-ph...</td>\n",
       "      <td>www.msn.com</td>\n",
       "      <td>47</td>\n",
       "      <td>1</td>\n",
       "    </tr>\n",
       "    <tr>\n",
       "      <th>25</th>\n",
       "      <td>https://stylecaster.com/celeb-coffee-table-books/</td>\n",
       "      <td>stylecaster.com</td>\n",
       "      <td>49</td>\n",
       "      <td>1</td>\n",
       "    </tr>\n",
       "    <tr>\n",
       "      <th>26</th>\n",
       "      <td>https://www.usmagazine.com/celebrity-news/news...</td>\n",
       "      <td>www.usmagazine.com</td>\n",
       "      <td>1</td>\n",
       "      <td>1</td>\n",
       "    </tr>\n",
       "    <tr>\n",
       "      <th>27</th>\n",
       "      <td>https://www.marieclaire.com/celebrity/a1969981...</td>\n",
       "      <td>www.marieclaire.com</td>\n",
       "      <td>83</td>\n",
       "      <td>1</td>\n",
       "    </tr>\n",
       "  </tbody>\n",
       "</table>\n",
       "</div>"
      ],
      "text/plain": [
       "                                             news_url        source_domain  \\\n",
       "0   http://toofab.com/2017/05/08/real-housewives-a...           toofab.com   \n",
       "1   https://www.today.com/style/see-people-s-choic...        www.today.com   \n",
       "2   https://www.etonline.com/news/220806_sophia_bu...     www.etonline.com   \n",
       "3   https://www.dailymail.co.uk/news/article-33655...  www.dailymail.co.uk   \n",
       "4   https://www.zerchoo.com/entertainment/gossip-g...      www.zerchoo.com   \n",
       "6   https://yournewswire.com/broward-county-sherif...     yournewswire.com   \n",
       "8   https://www.aol.com/article/entertainment/2018...          www.aol.com   \n",
       "9   https://www.98online.com/2018/05/02/katharine-...     www.98online.com   \n",
       "10  https://www.usmagazine.com/celebrity-news/news...   www.usmagazine.com   \n",
       "12  https://perezhilton.com/tyler-henry-says-krist...      perezhilton.com   \n",
       "13  https://abc.go.com/shows/dancing-with-the-star...           abc.go.com   \n",
       "16  https://www.thesun.co.uk/news/5086439/david-ca...     www.thesun.co.uk   \n",
       "17  https://www.usatoday.com/story/life/people/201...     www.usatoday.com   \n",
       "18  https://web.archive.org/web/20171228144534/htt...      web.archive.org   \n",
       "20  https://celebmix.com/pink-announces-2018-tour-...         celebmix.com   \n",
       "22  https://www.dailymail.co.uk/tvshowbiz/article-...  www.dailymail.co.uk   \n",
       "24  https://www.msn.com/en-us/tv/celebrity/ryan-ph...          www.msn.com   \n",
       "25  https://stylecaster.com/celeb-coffee-table-books/      stylecaster.com   \n",
       "26  https://www.usmagazine.com/celebrity-news/news...   www.usmagazine.com   \n",
       "27  https://www.marieclaire.com/celebrity/a1969981...  www.marieclaire.com   \n",
       "\n",
       "    tweet_num  real  \n",
       "0          42     1  \n",
       "1           0     1  \n",
       "2          63     1  \n",
       "3          20     1  \n",
       "4          38     1  \n",
       "6         124     0  \n",
       "8          59     1  \n",
       "9          10     1  \n",
       "10         18     1  \n",
       "12          4     1  \n",
       "13          0     1  \n",
       "16         54     1  \n",
       "17         64     1  \n",
       "18          1     0  \n",
       "20        120     1  \n",
       "22         91     1  \n",
       "24         47     1  \n",
       "25         49     1  \n",
       "26          1     1  \n",
       "27         83     1  "
      ]
     },
     "execution_count": 22,
     "metadata": {},
     "output_type": "execute_result"
    }
   ],
   "source": [
    "df3.head(20)"
   ]
  },
  {
   "cell_type": "code",
   "execution_count": 23,
   "id": "a2e59f51",
   "metadata": {},
   "outputs": [],
   "source": [
    "df3 = df3.drop(['news_url'],axis=1)"
   ]
  },
  {
   "cell_type": "code",
   "execution_count": 24,
   "id": "56c15948",
   "metadata": {},
   "outputs": [
    {
     "data": {
      "text/html": [
       "<div>\n",
       "<style scoped>\n",
       "    .dataframe tbody tr th:only-of-type {\n",
       "        vertical-align: middle;\n",
       "    }\n",
       "\n",
       "    .dataframe tbody tr th {\n",
       "        vertical-align: top;\n",
       "    }\n",
       "\n",
       "    .dataframe thead th {\n",
       "        text-align: right;\n",
       "    }\n",
       "</style>\n",
       "<table border=\"1\" class=\"dataframe\">\n",
       "  <thead>\n",
       "    <tr style=\"text-align: right;\">\n",
       "      <th></th>\n",
       "      <th>source_domain</th>\n",
       "      <th>tweet_num</th>\n",
       "      <th>real</th>\n",
       "    </tr>\n",
       "  </thead>\n",
       "  <tbody>\n",
       "    <tr>\n",
       "      <th>0</th>\n",
       "      <td>toofab.com</td>\n",
       "      <td>42</td>\n",
       "      <td>1</td>\n",
       "    </tr>\n",
       "    <tr>\n",
       "      <th>1</th>\n",
       "      <td>www.today.com</td>\n",
       "      <td>0</td>\n",
       "      <td>1</td>\n",
       "    </tr>\n",
       "    <tr>\n",
       "      <th>2</th>\n",
       "      <td>www.etonline.com</td>\n",
       "      <td>63</td>\n",
       "      <td>1</td>\n",
       "    </tr>\n",
       "    <tr>\n",
       "      <th>3</th>\n",
       "      <td>www.dailymail.co.uk</td>\n",
       "      <td>20</td>\n",
       "      <td>1</td>\n",
       "    </tr>\n",
       "    <tr>\n",
       "      <th>4</th>\n",
       "      <td>www.zerchoo.com</td>\n",
       "      <td>38</td>\n",
       "      <td>1</td>\n",
       "    </tr>\n",
       "    <tr>\n",
       "      <th>6</th>\n",
       "      <td>yournewswire.com</td>\n",
       "      <td>124</td>\n",
       "      <td>0</td>\n",
       "    </tr>\n",
       "    <tr>\n",
       "      <th>8</th>\n",
       "      <td>www.aol.com</td>\n",
       "      <td>59</td>\n",
       "      <td>1</td>\n",
       "    </tr>\n",
       "    <tr>\n",
       "      <th>9</th>\n",
       "      <td>www.98online.com</td>\n",
       "      <td>10</td>\n",
       "      <td>1</td>\n",
       "    </tr>\n",
       "    <tr>\n",
       "      <th>10</th>\n",
       "      <td>www.usmagazine.com</td>\n",
       "      <td>18</td>\n",
       "      <td>1</td>\n",
       "    </tr>\n",
       "    <tr>\n",
       "      <th>12</th>\n",
       "      <td>perezhilton.com</td>\n",
       "      <td>4</td>\n",
       "      <td>1</td>\n",
       "    </tr>\n",
       "  </tbody>\n",
       "</table>\n",
       "</div>"
      ],
      "text/plain": [
       "          source_domain  tweet_num  real\n",
       "0            toofab.com         42     1\n",
       "1         www.today.com          0     1\n",
       "2      www.etonline.com         63     1\n",
       "3   www.dailymail.co.uk         20     1\n",
       "4       www.zerchoo.com         38     1\n",
       "6      yournewswire.com        124     0\n",
       "8           www.aol.com         59     1\n",
       "9      www.98online.com         10     1\n",
       "10   www.usmagazine.com         18     1\n",
       "12      perezhilton.com          4     1"
      ]
     },
     "execution_count": 24,
     "metadata": {},
     "output_type": "execute_result"
    }
   ],
   "source": [
    "df3.head(10)"
   ]
  },
  {
   "cell_type": "code",
   "execution_count": 26,
   "id": "6bdd2f66",
   "metadata": {},
   "outputs": [
    {
     "data": {
      "text/html": [
       "<div>\n",
       "<style scoped>\n",
       "    .dataframe tbody tr th:only-of-type {\n",
       "        vertical-align: middle;\n",
       "    }\n",
       "\n",
       "    .dataframe tbody tr th {\n",
       "        vertical-align: top;\n",
       "    }\n",
       "\n",
       "    .dataframe thead th {\n",
       "        text-align: right;\n",
       "    }\n",
       "</style>\n",
       "<table border=\"1\" class=\"dataframe\">\n",
       "  <thead>\n",
       "    <tr style=\"text-align: right;\">\n",
       "      <th></th>\n",
       "      <th>source_domain</th>\n",
       "      <th>tweet_num</th>\n",
       "      <th>real</th>\n",
       "    </tr>\n",
       "  </thead>\n",
       "  <tbody>\n",
       "    <tr>\n",
       "      <th>6</th>\n",
       "      <td>yournewswire.com</td>\n",
       "      <td>124</td>\n",
       "      <td>0</td>\n",
       "    </tr>\n",
       "    <tr>\n",
       "      <th>20</th>\n",
       "      <td>celebmix.com</td>\n",
       "      <td>120</td>\n",
       "      <td>1</td>\n",
       "    </tr>\n",
       "    <tr>\n",
       "      <th>68</th>\n",
       "      <td>people.com</td>\n",
       "      <td>138</td>\n",
       "      <td>1</td>\n",
       "    </tr>\n",
       "    <tr>\n",
       "      <th>84</th>\n",
       "      <td>people.com</td>\n",
       "      <td>286</td>\n",
       "      <td>1</td>\n",
       "    </tr>\n",
       "    <tr>\n",
       "      <th>103</th>\n",
       "      <td>nextdivas.com</td>\n",
       "      <td>147</td>\n",
       "      <td>1</td>\n",
       "    </tr>\n",
       "  </tbody>\n",
       "</table>\n",
       "</div>"
      ],
      "text/plain": [
       "        source_domain  tweet_num  real\n",
       "6    yournewswire.com        124     0\n",
       "20       celebmix.com        120     1\n",
       "68         people.com        138     1\n",
       "84         people.com        286     1\n",
       "103     nextdivas.com        147     1"
      ]
     },
     "execution_count": 26,
     "metadata": {},
     "output_type": "execute_result"
    }
   ],
   "source": [
    "df3.head()"
   ]
  },
  {
   "cell_type": "code",
   "execution_count": 27,
   "id": "58487a8e",
   "metadata": {},
   "outputs": [
    {
     "data": {
      "text/plain": [
       "(1617, 3)"
      ]
     },
     "execution_count": 27,
     "metadata": {},
     "output_type": "execute_result"
    }
   ],
   "source": [
    "df3.shape"
   ]
  },
  {
   "cell_type": "code",
   "execution_count": 28,
   "id": "bb0f9ae0",
   "metadata": {},
   "outputs": [
    {
     "data": {
      "text/plain": [
       "array([  124,   120,   138,   286,   147,   115,   122,   110,   265,\n",
       "         182,   112,   442,   101,   145,   166,   100,   772,   955,\n",
       "         123,   181,   207,   130,   550,   219,   246,  1529,   116,\n",
       "         132,   102,  2107,   165,   108,   612,   254,   169,   107,\n",
       "         230,   114,   104,  8883,   105,  1854,   118,   446,   106,\n",
       "         140,   218,   109,   127,   648,   444,   202,   171,   303,\n",
       "       10166,  1099,   180,  1004,   133,   735,   161,  1020,   111,\n",
       "         555,   298,   139,   125,   237,   141,  1210,   532,   176,\n",
       "         143,   103,  1369,   216,  1036,   775,   157,  1016,   276,\n",
       "         279,   365,  5114,   378,   939,   252,   113,   142,   149,\n",
       "         131,   280,  1061,   814,   128,   708,   450,   151,  1915,\n",
       "         119,   223,   188,   152,   658,   217,   981,   390,   137,\n",
       "         326,   232,   927,   638,   424,  1046,   976,   597,  1078,\n",
       "        2082,   486,   301,  5122,   126,   607,  1416,   311,   283,\n",
       "        1274,   334,  3285,   456,   253,   178, 12741, 17746,   318,\n",
       "         187,   163,   136,   293,   195,   134,  2743,   222,   170,\n",
       "         154,  1051,   206,   771,   275,   194,   220,   150,   189,\n",
       "         968,   822,  1636,   599,   121,   379,   781,   949,  2759,\n",
       "        1024,  1000,   214,   740,   177,   282,   208,  1489,   416,\n",
       "        1625,   680,   862,   160,   861,   483,   267,   716,   414,\n",
       "         744,   325,   153,   231,   135,   264,   213,   317,   287,\n",
       "        1271,   297,   307,   190,   621,  4070,   828,   929,   172,\n",
       "         148,   938,   249,   117,   144,   192,   305,   371,   978,\n",
       "         179,   129,   238,   167,   183,   294,   613,   403,   184,\n",
       "         722,   156,   262,   441,   175,  1549,   339,   263,   236,\n",
       "         155,   288,   704,  1040,   168,   373,   469,   336,  1150,\n",
       "         248,  1644,   433,   272,   494,   904,   229,  3666,   203,\n",
       "        2770,   158,  2101,  1148, 14885,   585,   431,   495,  8871,\n",
       "         205,   912,  1249,   678,   677,   363,   291,  1792,  1133,\n",
       "         667,  2338,   397,  1168,   173,   241,   652,   507,   910,\n",
       "         310,   314,   496,   355,  1083,   551,   566,   711,   159,\n",
       "         268,   196,   277,  1111,  1021,   209, 21182,   448,   358,\n",
       "       11714,   488,   684,  1007,  1094,   751,   901,   333,   410,\n",
       "         934,   688,  1019,   321,  1174,   146,   212,   992,   530,\n",
       "         356,   453,   676,   162,   508,   811,   468,   617,  1733,\n",
       "         353,   164,   191, 29060, 10164,  1011,   581,   436,  1170,\n",
       "        1010,  1544,   322,   342,   965,  1933,  7510,  2626,  6575,\n",
       "        1048,   367,   825,   418,  3399,  1893,   792,  1226,  3936,\n",
       "        4601, 14152,  6304,  1044,  3139,   331,   474,  1313,   619,\n",
       "        4005,   247,   274,   515,   923,  1385,  2424,   445,   340,\n",
       "         224,   715,   352,   831,   380,  1729,   498,  1496,   952,\n",
       "         185,  1232,   285,  4760,   200,   755,   991,   489,   386,\n",
       "         800,  6253,   512,   989,   383,   477,  1527,  7084,  3717,\n",
       "         523,   840,  1152,  1882,   683,  3941,   197,  1002,   259,\n",
       "        2555,  1375,   239,  1039,   269,  1542,   240,   561,   398,\n",
       "         364,   964,  1001,   226,   260,   802,  1788,   764,  1072,\n",
       "         186,   796,  1060,   675,   503,  2245,   233, 17548,  1225,\n",
       "        2303,  2380,  3914,   244,  1536,  1638,   698,   645,   300,\n",
       "         971,   650,  7393,   447,   284,   250,  1026,   385,   256,\n",
       "         815,   492,  1564,   296,   525,  1472,   257,   541,   266,\n",
       "         438,   481,   337,   174,   360,   295,  1296,  2024,  9577,\n",
       "        1828,  1018, 19863,   387, 27377,   347,  1172,   682,   685,\n",
       "         580,   345,  1505,   622,  1307,  1022,   457,   732,   817,\n",
       "        1293,   471,   422,  3132,   227,   500,   497,   592,   225,\n",
       "         853,  1025,   350,   315,   391,  2814,   596], dtype=int64)"
      ]
     },
     "execution_count": 28,
     "metadata": {},
     "output_type": "execute_result"
    }
   ],
   "source": [
    "df3.tweet_num.unique()"
   ]
  },
  {
   "cell_type": "code",
   "execution_count": 29,
   "id": "789f51e6",
   "metadata": {},
   "outputs": [],
   "source": [
    "x = df3.drop(['real'],axis=1)\n",
    "y = df3['real']\n",
    "from sklearn.model_selection import train_test_split\n",
    "x_train,x_test,y_train,y_test = train_test_split(x,y,test_size=0.2)"
   ]
  },
  {
   "cell_type": "code",
   "execution_count": 30,
   "id": "52ba73ad",
   "metadata": {},
   "outputs": [],
   "source": [
    "import matplotlib.pyplot as plt"
   ]
  },
  {
   "cell_type": "code",
   "execution_count": 31,
   "id": "094f82e7",
   "metadata": {},
   "outputs": [
    {
     "data": {
      "text/plain": [
       "array(['yournewswire.com', 'celebmix.com', 'people.com', 'nextdivas.com',\n",
       "       'www.dailymail.co.uk', 'www.bet.com', 'www.apartmenttherapy.com',\n",
       "       'www.telegraph.co.uk', 'www.usatoday.com', 'wreg.com',\n",
       "       'www.cq.com', 'en.wikipedia.org', 'www.biography.com',\n",
       "       'medium.com', 'popculture.com', 'www.vulture.com',\n",
       "       'www.breitbart.com', 'www.etonline.com', 'www.rollingstone.com',\n",
       "       'www.techradar.com', 'news.sky.com', 'www.teenvogue.com',\n",
       "       'web.archive.org', 'www.nydailynews.com', 'www.usmagazine.com',\n",
       "       'teenzonemagazine.co.za', 'www.infowars.com', 'www.vogue.com',\n",
       "       'www.thedailyshow.com', 'millyzblog.blogspot.com',\n",
       "       'footwearnews.com', 'www.thesun.co.uk', 'www.pollingreport.com',\n",
       "       'www.nbclosangeles.com', 'www.kardashiantoday.com',\n",
       "       'www.cbsnews.com', 'zimbabwe-today.com', 'deadline.com',\n",
       "       'abcnews.go.com', 'www.cnn.com', 'www.indiewire.com',\n",
       "       'www.npr.org', 'www.cinemablend.com', 'wwd.com', 'www.foxnews.com',\n",
       "       'www.facebook.com', 'www.elitedaily.com', 'me.me',\n",
       "       'www.washingtonpost.com', 'variety.com', 'clerk.house.gov',\n",
       "       'www.justjared.com', 'pagesix.com', 'www.bustle.com',\n",
       "       'www.redbookmag.com', 'toofab.com', 'www.harpersbazaar.com',\n",
       "       'ew.com', 'www.newslocker.com', 'www.vanityfair.com',\n",
       "       'teddystick.com', 'www.chicagotribune.com', 'www.billboard.com',\n",
       "       'teddeutch.house.gov', 'blackdoctor.org', 'nypost.com',\n",
       "       'www.nbcchicago.com', 'omgcheckitout.com', 'radaronline.com',\n",
       "       'www.avclub.com', 'www.cbs.com', 'www.littlethings.com',\n",
       "       'www.esquire.com', 'www.forbes.com',\n",
       "       'ohnotheydidnt.livejournal.com', 'celebrityinsider.org',\n",
       "       'www.nme.com', 'www.cmt.com', 'www.parents.com',\n",
       "       'thestir.cafemom.com', 'www.glamour.com',\n",
       "       'www.hollywoodreporter.com', 'www.latimes.com', 'www.cbo.gov',\n",
       "       'worldnewsdailyreport.com', 'store.brunomars.com', 'fortune.com',\n",
       "       'theglobalheadlines.net', 'www.huffingtonpost.com',\n",
       "       'www.thewrap.com', 'dejavu-intl.com', 'kfrog.radio.com',\n",
       "       'www.mtv.com', 'theworldnews.net', 'www.whitehouse.gov',\n",
       "       'tech2.org', 'www.cosmopolitan.com', 'www.standard.co.uk',\n",
       "       'www.longroom.com', 'econewsmedia.org', 'www.theguardian.com',\n",
       "       'www.bbc.com', 'www.breakingnews365.net', 'awards.trendolizer.com',\n",
       "       'www.hwtm.com', 'www.cmaworld.com', 'www.legis.state.ak.us',\n",
       "       'tribune.com.pk', 'www.youtube.com', 'www.shape.com',\n",
       "       'www.denofgeek.com', 'www.mirror.co.uk', 'babylonbee.com',\n",
       "       'www.time.com', 'www.countryliving.com', 'www.app.com',\n",
       "       'iheartuae.com', 'emsnews.wordpress.com', 'metro.co.uk',\n",
       "       'ktu.iheart.com', 'buzznews.co.uk', 'www.instagram.com',\n",
       "       'realnewsrightnow.com', 'about.usps.com', 'hollywoodlife.com',\n",
       "       'www.ncaa.com', 'www.thetalko.com', 'www.thegatewaypundit.com',\n",
       "       'www.thisisinsider.com', 'www.townandcountrymag.com',\n",
       "       'www.whowhatwear.com', 'www.zeel.com', 'www.zerchoo.com',\n",
       "       'www.ajc.com', 'www.iheartradio.com.au', 'www.ktvb.com',\n",
       "       'www.self.com', 'www.nytimes.com', 'www.complex.com',\n",
       "       'www.bls.gov', 'usalibertypress.com', 'www.seventeen.com',\n",
       "       'www.eia.gov', 'www.instylemag.com.au', 'www.fox5dc.com',\n",
       "       'www.politico.com', 'ir.jcpenney.com', 'www.hellomagazine.com',\n",
       "       'www.upi.com', 'www.americatb.com', 'www.hot933hits.com',\n",
       "       'en.paperblog.com', 'www.unilad.co.uk', 'www.nbc.com', 'revolt.tv',\n",
       "       'www.armytimes.com', 'www.msn.com', 'www.today.com',\n",
       "       'bestblackfriday.com', 'rip.trendolizer.com', 'genius.com',\n",
       "       'time.com', 'riverdale.wikia.com', 'www.realtor.com',\n",
       "       'www.capitalxtra.com', 'io9.gizmodo.com', 'www.reddit.com',\n",
       "       'www.independent.co.uk', 'www.much.com', 'bojtv.com',\n",
       "       'extratv.com', 'www.wmagazine.com', 'query.nytimes.com',\n",
       "       'newsbreakshere.com', 'www.amc.com', 'www.kartiavelino.com',\n",
       "       'www.fox10phoenix.com', 'celebritymaximum.com', 'youtube.com',\n",
       "       'www.masscops.com', 'okmagazine.com', 'usanewstoday.org',\n",
       "       'greys.fandom.com', 'www.ecfr.gov', 'nymag.com',\n",
       "       'www.nbcsandiego.com', 'www.express.co.uk', 'www.digitalspy.com',\n",
       "       'www.hindustantimes.com', 'www.bluedotdaily.com', 'www.amazon.com',\n",
       "       'undeadwalking.com', 'www.nickiswift.com', 'www.politifact.com',\n",
       "       'www.mtv.co.uk', 'gossipnewspoint.com', 'www.refinery29.com',\n",
       "       'www.senate.gov', 'www.15minutenews.com',\n",
       "       'www.psychologytoday.com', 'www.inverse.com', 'article.wn.com',\n",
       "       'www.makeupforever.com', 'abc7.com', 'www.accessonline.com',\n",
       "       'www.metacritic.com', 'www.reuters.com', 'www.tmz.com',\n",
       "       'www.libertyheadlines.com', 'wazanews.tk', 'loudwire.com',\n",
       "       'thegoldwater.com', 'www.xxlmag.com', 'www.trendolizer.com',\n",
       "       'news.iheart.com', 'www.vox.com', 'www.scoopnest.com',\n",
       "       'www.aol.com', 'www.biphoo.com', 'www.vogue.com.au',\n",
       "       'www.theodysseyonline.com', 'www.si.com', 'wkrg.com',\n",
       "       'newsdeskpress.com', 'tvline.com', 'www.theverge.com',\n",
       "       'candy95.com', 'www.economist.com', 'www.fitpregnancy.com',\n",
       "       'www.react365.com', 'news.groopspeak.com', 'theboot.com',\n",
       "       'www.celebritynetworth.com', 'www.lovethispic.com',\n",
       "       'ladylibertysnews.com', 'www.webbyawards.com', 'www.elle.com',\n",
       "       'www.hercampus.com', 'abc.go.com', 'www.ed.gov', 'dailyfeed.news',\n",
       "       'nrtonline.info', 'thegrapevine.theroot.com', 'actionnews3.com',\n",
       "       '100percentfedup.com', 'www.mobo.com', 'www.parkerxl.com',\n",
       "       'crime.chicagotribune.com', 'www.instyle.com', 'the-fringe.com',\n",
       "       'www.iheartradio.net.nz', 'activistmommy.com', 'www.c-span.org',\n",
       "       'money.cnn.com', 'www.census.gov', 'www.buycelebrityclothes.com',\n",
       "       'www.celebyolo.com', 'pitchfork.com', 'www.huffingtonpost.ca',\n",
       "       'www.slimdadi.com', 'usawatchdog.com', 'pegida.trendolizer.com',\n",
       "       'www.thecommonsenseshow.com', 'www.yourtango.com', 'usanews24h.tk',\n",
       "       'www.msnbc.msn.com', 'ewn.co.za', 'www.bravotv.com',\n",
       "       'breaking13news.com', 'www.newslo.com', 'www.allure.com',\n",
       "       'tasteofcountry.com', 'www.nbcnews.com', 'www.documentcloud.org',\n",
       "       'www.popsugar.com', 'www.doe.mass.edu', 'www.grammy.com',\n",
       "       'consequenceofsound.net', 'trueamericans.me', 'proudleader.com',\n",
       "       'www.marieclaire.com', 'www.someecards.com', 'hellogiggles.com',\n",
       "       'www.delish.com', 'forums.previously.tv',\n",
       "       'us3.campaign-archive1.com', 'www.thecut.com', 'gossipbucket.com',\n",
       "       'www.kansascity.com', 'dailynative.us', 'q103albany.com',\n",
       "       'www.wikihow.com', 'www.businessinsider.com', 'www.usnews.com',\n",
       "       'www.essence.com', 'www.kare11.com', 'fox40.com',\n",
       "       'www.tennessean.com', 'www.justjaredjr.com', 'www.nfib-sbet.org',\n",
       "       'rare.us', 'www.bostonglobe.com', 'quickening-spirit.com',\n",
       "       'www.vogue.co.uk', 'www.inquisitr.com', 'www.christianpost.com',\n",
       "       'beforeitsnews.com', 'www.purewow.com', 'www.romper.com',\n",
       "       'kotaku.com', 'fellowshipoftheminds.com',\n",
       "       'universalanimation.wikia.com', 'www.washingtonian.com',\n",
       "       'www.who.com.au', 'ohmy.disney.com', 'thesource.com',\n",
       "       'www.govtrack.us', 'www.house.gov', 'www.greentechmedia.com',\n",
       "       'beta.criticalmention.com', 'reflectionofmind.org', 'www.wcpo.com',\n",
       "       'mainerepublicemailalert.com', 'www.j-14.com',\n",
       "       'www.marketwatch.com', 'politicono.com', 'www.spin.com',\n",
       "       'screenrant.com', 'www.worldfactsftw.com',\n",
       "       'alternativemediasyndicate.com', 'www.iheart.com',\n",
       "       'sentinelksmo.org', 'www.capitalfm.com', 'youtu.be',\n",
       "       'www.intouchweekly.com', 'www.newshub.org', 'www.hbo.com',\n",
       "       'www.neonnettle.com', 'stylecaster.com', 'www.trending2day.com',\n",
       "       'emirateswoman.com', 'www.ams.usda.gov', 'www.broadwayworld.com',\n",
       "       'fashionista.com', 'www.thelifebuzz.com', 'smartmindmag.com',\n",
       "       'www.dailygawk.com', 'www.cdc.gov', 'www.bankrate.com',\n",
       "       'twitter.com', 'usnnetwork.com', 'us.hola.com',\n",
       "       'theseattletribune.com', 'kysdc.com', 'www.cnet.com',\n",
       "       'www.jetss.com', 'video.foxnews.com', 'www.crfashionbook.com',\n",
       "       '975online.iheart.com', 'www.z953.ca', 'www.newscats.org',\n",
       "       'www.producersguild.org', 'nyeveningnews.com',\n",
       "       'www.insideweddings.com', 'flashnewss.club', 'www.news.com.au',\n",
       "       'techcrunch.com', 'www.nbcsports.com', 'shania.activeboard.com',\n",
       "       'docquery.fec.gov', 'www.kiro7.com', 'www.englishbaby.com',\n",
       "       'www.brides.com', 'www.oxygen.com', 'nowtrump.com',\n",
       "       'overthemoon.com', 'iqmediacorp.com', 'www.globalsecurity.org',\n",
       "       'theconversation.com', 'thomas.loc.gov', 'money.usnews.com',\n",
       "       'z1035.com', 'www.radio.com', 'www.wbwn.com', 'sciencevibe.com',\n",
       "       'ktvsl.com', 'www.sfgate.com', 'notallowedto.com',\n",
       "       'www.colbertnation.com', 'taylorswift.hol.es',\n",
       "       'www.theknotnews.com', 'washingtonsources.org',\n",
       "       'www.latintimes.com', 'www.mother.ly', 'www.rap-up.com',\n",
       "       'empirenews.net', 'www.music-news.com', 'houstonpost.co',\n",
       "       'conservative7.com', 'apnews.com', 'miamipost.co', 'wwwxzone.com',\n",
       "       'www.motherjones.com', 'www.ibtimes.co.uk',\n",
       "       'www.reviewjournal.com', 'www.12news.com',\n",
       "       'www.billboardmusicawards.com', 'www.nowtolove.com.au',\n",
       "       'portalstate.com', 'amysmartgirls.com', 'politicot.com',\n",
       "       'z100radio.iheart.com', 'promotionmusicnews.com', 'newstarget.com',\n",
       "       'www.housebeautiful.com', 'www.desmoinesregister.com',\n",
       "       'newsbeezer.com', 'www.nba.com', 'eveningw.com',\n",
       "       'www.someonesbones.com', 'blog.wenn.com', 'sotu.blogs.cnn.com',\n",
       "       'www.slashfilm.com', 'forfreedomworld.com', 'wikinetworth.com',\n",
       "       'www.pressparty.com', 'www.ranker.com', 'www.vice.com',\n",
       "       'www.zimbio.com', 'www.iol.co.za', 'de.wikipedia.org',\n",
       "       'berniesanders.com', 'www.empiresports.co', 'www.fedupthebook.com',\n",
       "       'www.supremecourt.gov', 'thecaucus.blogs.nytimes.com',\n",
       "       'start.att.net', 'rarolae.com', 'news.antiwar.com',\n",
       "       'wcfcourier.com', 'usweekly.com', 'geektyrant.com',\n",
       "       'www.huzlers.com', 'www.oscars.org', 'www.nbcphiladelphia.com',\n",
       "       'www.nbcnewyork.com', 'tmzbreaking.com', 'ca.hellomagazine.com',\n",
       "       'www.whimn.com.au', 'www.realclearpolitics.com',\n",
       "       'redstatewatcher.com', 'disneyparks.disney.go.com',\n",
       "       'celebritygossippics.com', 'www.w3livenews.com',\n",
       "       'conservativedailypost.com', 'www.newhot997.com',\n",
       "       'conservative-headlines.com', 'usamirrornews.com',\n",
       "       'www.zmonline.com', 'bossip.com', 'www.ebony.com',\n",
       "       'www.ocregister.com', 'www.quora.com', 'studybreaks.com',\n",
       "       'frostsnow.com', 'theblast.com', 'uspostman.com',\n",
       "       'www.trashtalktv.com', 'www.nigerianbulletin.com', 'etcanada.com',\n",
       "       'madamenoire.com', '24trueinfoamerica.com',\n",
       "       'www.digitaltrends.com', 'kopitiambot.com', 'abc7chicago.com',\n",
       "       'www.stylist.co.uk', 'ftw.usatoday.com', 'www.tvinsider.com',\n",
       "       'ourvoiceny.com', 'kiisfm.iheart.com', 'www.9news.com',\n",
       "       'www.powerslc.com', 'viraldevil.com', 'www.politicsdaily.com',\n",
       "       'www.blingnews.com', 'data.unhcr.org', 'inshapetoday.com',\n",
       "       'minnesota.cbslocal.com', 'nytiwes.com', 'www.goldderby.com',\n",
       "       'www.whathappensintheusa.com', 'www.thirtyminded.com',\n",
       "       'www.mr-mag.com', '949thebull.iheart.com', 'elections.nytimes.com',\n",
       "       'www.patriotnetwork.one', 'www.narcity.com', 'wstale.com',\n",
       "       'pix11.com', 'www.okayplayer.com', 'www.spillednews.com',\n",
       "       'freeform.go.com', 'tonto.eia.doe.gov', 'www.thedailybeast.com',\n",
       "       'timesofindia.indiatimes.com', 'edition.cnn.com',\n",
       "       'www.azcentral.com', 'www.cheatsheet.com',\n",
       "       'christmasdailygifts.info', 'www.justice.gov', 'www.news18.com',\n",
       "       'automaticblogging.com', 'www.cvikas.com', 'www.papermag.com',\n",
       "       'pollingreport.com', 'politicaladarchive.org', 'viralactions.com',\n",
       "       'www.allabouttrh.com', 'www.kff.org', 'www.mtv.com.au',\n",
       "       'www.aft.org', 'flashnewscorner.com'], dtype=object)"
      ]
     },
     "execution_count": 31,
     "metadata": {},
     "output_type": "execute_result"
    }
   ],
   "source": [
    "df3.source_domain.unique()"
   ]
  },
  {
   "cell_type": "code",
   "execution_count": 32,
   "id": "057a3397",
   "metadata": {},
   "outputs": [],
   "source": [
    "from sklearn.preprocessing import LabelEncoder , OneHotEncoder"
   ]
  },
  {
   "cell_type": "code",
   "execution_count": 33,
   "id": "73921f7f",
   "metadata": {},
   "outputs": [],
   "source": [
    "le = LabelEncoder()\n",
    "df4 = df3\n",
    "df4.source_domain = le.fit_transform(df4.source_domain)"
   ]
  },
  {
   "cell_type": "code",
   "execution_count": 34,
   "id": "29e76b39",
   "metadata": {},
   "outputs": [
    {
     "data": {
      "text/html": [
       "<div>\n",
       "<style scoped>\n",
       "    .dataframe tbody tr th:only-of-type {\n",
       "        vertical-align: middle;\n",
       "    }\n",
       "\n",
       "    .dataframe tbody tr th {\n",
       "        vertical-align: top;\n",
       "    }\n",
       "\n",
       "    .dataframe thead th {\n",
       "        text-align: right;\n",
       "    }\n",
       "</style>\n",
       "<table border=\"1\" class=\"dataframe\">\n",
       "  <thead>\n",
       "    <tr style=\"text-align: right;\">\n",
       "      <th></th>\n",
       "      <th>source_domain</th>\n",
       "      <th>tweet_num</th>\n",
       "      <th>real</th>\n",
       "    </tr>\n",
       "  </thead>\n",
       "  <tbody>\n",
       "    <tr>\n",
       "      <th>6</th>\n",
       "      <td>516</td>\n",
       "      <td>124</td>\n",
       "      <td>0</td>\n",
       "    </tr>\n",
       "    <tr>\n",
       "      <th>20</th>\n",
       "      <td>30</td>\n",
       "      <td>120</td>\n",
       "      <td>1</td>\n",
       "    </tr>\n",
       "    <tr>\n",
       "      <th>68</th>\n",
       "      <td>130</td>\n",
       "      <td>138</td>\n",
       "      <td>1</td>\n",
       "    </tr>\n",
       "    <tr>\n",
       "      <th>84</th>\n",
       "      <td>130</td>\n",
       "      <td>286</td>\n",
       "      <td>1</td>\n",
       "    </tr>\n",
       "    <tr>\n",
       "      <th>103</th>\n",
       "      <td>114</td>\n",
       "      <td>147</td>\n",
       "      <td>1</td>\n",
       "    </tr>\n",
       "    <tr>\n",
       "      <th>...</th>\n",
       "      <td>...</td>\n",
       "      <td>...</td>\n",
       "      <td>...</td>\n",
       "    </tr>\n",
       "    <tr>\n",
       "      <th>23153</th>\n",
       "      <td>509</td>\n",
       "      <td>2814</td>\n",
       "      <td>1</td>\n",
       "    </tr>\n",
       "    <tr>\n",
       "      <th>23154</th>\n",
       "      <td>222</td>\n",
       "      <td>1828</td>\n",
       "      <td>1</td>\n",
       "    </tr>\n",
       "    <tr>\n",
       "      <th>23175</th>\n",
       "      <td>495</td>\n",
       "      <td>134</td>\n",
       "      <td>0</td>\n",
       "    </tr>\n",
       "    <tr>\n",
       "      <th>23176</th>\n",
       "      <td>470</td>\n",
       "      <td>367</td>\n",
       "      <td>1</td>\n",
       "    </tr>\n",
       "    <tr>\n",
       "      <th>23184</th>\n",
       "      <td>64</td>\n",
       "      <td>596</td>\n",
       "      <td>0</td>\n",
       "    </tr>\n",
       "  </tbody>\n",
       "</table>\n",
       "<p>1617 rows × 3 columns</p>\n",
       "</div>"
      ],
      "text/plain": [
       "       source_domain  tweet_num  real\n",
       "6                516        124     0\n",
       "20                30        120     1\n",
       "68               130        138     1\n",
       "84               130        286     1\n",
       "103              114        147     1\n",
       "...              ...        ...   ...\n",
       "23153            509       2814     1\n",
       "23154            222       1828     1\n",
       "23175            495        134     0\n",
       "23176            470        367     1\n",
       "23184             64        596     0\n",
       "\n",
       "[1617 rows x 3 columns]"
      ]
     },
     "execution_count": 34,
     "metadata": {},
     "output_type": "execute_result"
    }
   ],
   "source": [
    "df4"
   ]
  },
  {
   "cell_type": "code",
   "execution_count": 35,
   "id": "1a401f84",
   "metadata": {},
   "outputs": [],
   "source": [
    "from sklearn.preprocessing import OneHotEncoder\n",
    "from sklearn.compose import ColumnTransformer\n",
    "ct = ColumnTransformer([('source_domain', OneHotEncoder(), [0])], remainder = 'passthrough')"
   ]
  },
  {
   "cell_type": "code",
   "execution_count": 36,
   "id": "d3be5a1f",
   "metadata": {},
   "outputs": [
    {
     "data": {
      "text/plain": [
       "array([[516, 124],\n",
       "       [ 30, 120],\n",
       "       [130, 138],\n",
       "       ...,\n",
       "       [495, 134],\n",
       "       [470, 367],\n",
       "       [ 64, 596]], dtype=int64)"
      ]
     },
     "execution_count": 36,
     "metadata": {},
     "output_type": "execute_result"
    }
   ],
   "source": [
    "x = df4[['source_domain','tweet_num']].values\n",
    "x"
   ]
  },
  {
   "cell_type": "code",
   "execution_count": 37,
   "id": "cf3e6da4",
   "metadata": {},
   "outputs": [
    {
     "data": {
      "text/plain": [
       "6        0\n",
       "20       1\n",
       "68       1\n",
       "84       1\n",
       "103      1\n",
       "        ..\n",
       "23153    1\n",
       "23154    1\n",
       "23175    0\n",
       "23176    1\n",
       "23184    0\n",
       "Name: real, Length: 1617, dtype: int64"
      ]
     },
     "execution_count": 37,
     "metadata": {},
     "output_type": "execute_result"
    }
   ],
   "source": [
    "y = df4['real']\n",
    "y"
   ]
  },
  {
   "cell_type": "code",
   "execution_count": 38,
   "id": "dc9a0d7d",
   "metadata": {},
   "outputs": [],
   "source": [
    "x = ct.fit_transform(x)"
   ]
  },
  {
   "cell_type": "code",
   "execution_count": 39,
   "id": "4784c919",
   "metadata": {},
   "outputs": [
    {
     "data": {
      "text/plain": [
       "<1617x523 sparse matrix of type '<class 'numpy.float64'>'\n",
       "\twith 3234 stored elements in Compressed Sparse Row format>"
      ]
     },
     "execution_count": 39,
     "metadata": {},
     "output_type": "execute_result"
    }
   ],
   "source": [
    "x"
   ]
  },
  {
   "cell_type": "code",
   "execution_count": 40,
   "id": "037acb8d",
   "metadata": {},
   "outputs": [
    {
     "data": {
      "text/plain": [
       "<1617x2 sparse matrix of type '<class 'numpy.float64'>'\n",
       "\twith 2 stored elements in Compressed Sparse Row format>"
      ]
     },
     "execution_count": 40,
     "metadata": {},
     "output_type": "execute_result"
    }
   ],
   "source": [
    "x = x[:,:2]\n",
    "x"
   ]
  },
  {
   "cell_type": "code",
   "execution_count": 41,
   "id": "c21c63ba",
   "metadata": {},
   "outputs": [],
   "source": [
    "from sklearn.model_selection import train_test_split\n",
    "x_train,x_test,y_train,y_test = train_test_split(x,y,test_size=0.2)"
   ]
  },
  {
   "cell_type": "code",
   "execution_count": null,
   "id": "3b1659ca",
   "metadata": {},
   "outputs": [],
   "source": []
  },
  {
   "cell_type": "code",
   "execution_count": 42,
   "id": "91826676",
   "metadata": {},
   "outputs": [],
   "source": [
    "from sklearn.ensemble import RandomForestClassifier"
   ]
  },
  {
   "cell_type": "code",
   "execution_count": 43,
   "id": "d1b072fd",
   "metadata": {},
   "outputs": [],
   "source": [
    "model = RandomForestClassifier()"
   ]
  },
  {
   "cell_type": "markdown",
   "id": "1004bb3a",
   "metadata": {},
   "source": []
  },
  {
   "cell_type": "code",
   "execution_count": 44,
   "id": "65a77a58",
   "metadata": {},
   "outputs": [
    {
     "data": {
      "text/html": [
       "<style>#sk-container-id-1 {color: black;}#sk-container-id-1 pre{padding: 0;}#sk-container-id-1 div.sk-toggleable {background-color: white;}#sk-container-id-1 label.sk-toggleable__label {cursor: pointer;display: block;width: 100%;margin-bottom: 0;padding: 0.3em;box-sizing: border-box;text-align: center;}#sk-container-id-1 label.sk-toggleable__label-arrow:before {content: \"▸\";float: left;margin-right: 0.25em;color: #696969;}#sk-container-id-1 label.sk-toggleable__label-arrow:hover:before {color: black;}#sk-container-id-1 div.sk-estimator:hover label.sk-toggleable__label-arrow:before {color: black;}#sk-container-id-1 div.sk-toggleable__content {max-height: 0;max-width: 0;overflow: hidden;text-align: left;background-color: #f0f8ff;}#sk-container-id-1 div.sk-toggleable__content pre {margin: 0.2em;color: black;border-radius: 0.25em;background-color: #f0f8ff;}#sk-container-id-1 input.sk-toggleable__control:checked~div.sk-toggleable__content {max-height: 200px;max-width: 100%;overflow: auto;}#sk-container-id-1 input.sk-toggleable__control:checked~label.sk-toggleable__label-arrow:before {content: \"▾\";}#sk-container-id-1 div.sk-estimator input.sk-toggleable__control:checked~label.sk-toggleable__label {background-color: #d4ebff;}#sk-container-id-1 div.sk-label input.sk-toggleable__control:checked~label.sk-toggleable__label {background-color: #d4ebff;}#sk-container-id-1 input.sk-hidden--visually {border: 0;clip: rect(1px 1px 1px 1px);clip: rect(1px, 1px, 1px, 1px);height: 1px;margin: -1px;overflow: hidden;padding: 0;position: absolute;width: 1px;}#sk-container-id-1 div.sk-estimator {font-family: monospace;background-color: #f0f8ff;border: 1px dotted black;border-radius: 0.25em;box-sizing: border-box;margin-bottom: 0.5em;}#sk-container-id-1 div.sk-estimator:hover {background-color: #d4ebff;}#sk-container-id-1 div.sk-parallel-item::after {content: \"\";width: 100%;border-bottom: 1px solid gray;flex-grow: 1;}#sk-container-id-1 div.sk-label:hover label.sk-toggleable__label {background-color: #d4ebff;}#sk-container-id-1 div.sk-serial::before {content: \"\";position: absolute;border-left: 1px solid gray;box-sizing: border-box;top: 0;bottom: 0;left: 50%;z-index: 0;}#sk-container-id-1 div.sk-serial {display: flex;flex-direction: column;align-items: center;background-color: white;padding-right: 0.2em;padding-left: 0.2em;position: relative;}#sk-container-id-1 div.sk-item {position: relative;z-index: 1;}#sk-container-id-1 div.sk-parallel {display: flex;align-items: stretch;justify-content: center;background-color: white;position: relative;}#sk-container-id-1 div.sk-item::before, #sk-container-id-1 div.sk-parallel-item::before {content: \"\";position: absolute;border-left: 1px solid gray;box-sizing: border-box;top: 0;bottom: 0;left: 50%;z-index: -1;}#sk-container-id-1 div.sk-parallel-item {display: flex;flex-direction: column;z-index: 1;position: relative;background-color: white;}#sk-container-id-1 div.sk-parallel-item:first-child::after {align-self: flex-end;width: 50%;}#sk-container-id-1 div.sk-parallel-item:last-child::after {align-self: flex-start;width: 50%;}#sk-container-id-1 div.sk-parallel-item:only-child::after {width: 0;}#sk-container-id-1 div.sk-dashed-wrapped {border: 1px dashed gray;margin: 0 0.4em 0.5em 0.4em;box-sizing: border-box;padding-bottom: 0.4em;background-color: white;}#sk-container-id-1 div.sk-label label {font-family: monospace;font-weight: bold;display: inline-block;line-height: 1.2em;}#sk-container-id-1 div.sk-label-container {text-align: center;}#sk-container-id-1 div.sk-container {/* jupyter's `normalize.less` sets `[hidden] { display: none; }` but bootstrap.min.css set `[hidden] { display: none !important; }` so we also need the `!important` here to be able to override the default hidden behavior on the sphinx rendered scikit-learn.org. See: https://github.com/scikit-learn/scikit-learn/issues/21755 */display: inline-block !important;position: relative;}#sk-container-id-1 div.sk-text-repr-fallback {display: none;}</style><div id=\"sk-container-id-1\" class=\"sk-top-container\"><div class=\"sk-text-repr-fallback\"><pre>RandomForestClassifier()</pre><b>In a Jupyter environment, please rerun this cell to show the HTML representation or trust the notebook. <br />On GitHub, the HTML representation is unable to render, please try loading this page with nbviewer.org.</b></div><div class=\"sk-container\" hidden><div class=\"sk-item\"><div class=\"sk-estimator sk-toggleable\"><input class=\"sk-toggleable__control sk-hidden--visually\" id=\"sk-estimator-id-1\" type=\"checkbox\" checked><label for=\"sk-estimator-id-1\" class=\"sk-toggleable__label sk-toggleable__label-arrow\">RandomForestClassifier</label><div class=\"sk-toggleable__content\"><pre>RandomForestClassifier()</pre></div></div></div></div></div>"
      ],
      "text/plain": [
       "RandomForestClassifier()"
      ]
     },
     "execution_count": 44,
     "metadata": {},
     "output_type": "execute_result"
    }
   ],
   "source": [
    "model.fit(x_train,y_train)"
   ]
  },
  {
   "cell_type": "code",
   "execution_count": 45,
   "id": "6b74fd5a",
   "metadata": {},
   "outputs": [
    {
     "data": {
      "text/plain": [
       "0.9197530864197531"
      ]
     },
     "execution_count": 45,
     "metadata": {},
     "output_type": "execute_result"
    }
   ],
   "source": [
    "model.score(x_test,y_test)"
   ]
  },
  {
   "cell_type": "code",
   "execution_count": 46,
   "id": "06dd7285",
   "metadata": {},
   "outputs": [],
   "source": [
    "from sklearn.linear_model import LogisticRegression\n",
    "log_model = LogisticRegression()"
   ]
  },
  {
   "cell_type": "code",
   "execution_count": 47,
   "id": "5d32229b",
   "metadata": {},
   "outputs": [
    {
     "data": {
      "text/html": [
       "<style>#sk-container-id-2 {color: black;}#sk-container-id-2 pre{padding: 0;}#sk-container-id-2 div.sk-toggleable {background-color: white;}#sk-container-id-2 label.sk-toggleable__label {cursor: pointer;display: block;width: 100%;margin-bottom: 0;padding: 0.3em;box-sizing: border-box;text-align: center;}#sk-container-id-2 label.sk-toggleable__label-arrow:before {content: \"▸\";float: left;margin-right: 0.25em;color: #696969;}#sk-container-id-2 label.sk-toggleable__label-arrow:hover:before {color: black;}#sk-container-id-2 div.sk-estimator:hover label.sk-toggleable__label-arrow:before {color: black;}#sk-container-id-2 div.sk-toggleable__content {max-height: 0;max-width: 0;overflow: hidden;text-align: left;background-color: #f0f8ff;}#sk-container-id-2 div.sk-toggleable__content pre {margin: 0.2em;color: black;border-radius: 0.25em;background-color: #f0f8ff;}#sk-container-id-2 input.sk-toggleable__control:checked~div.sk-toggleable__content {max-height: 200px;max-width: 100%;overflow: auto;}#sk-container-id-2 input.sk-toggleable__control:checked~label.sk-toggleable__label-arrow:before {content: \"▾\";}#sk-container-id-2 div.sk-estimator input.sk-toggleable__control:checked~label.sk-toggleable__label {background-color: #d4ebff;}#sk-container-id-2 div.sk-label input.sk-toggleable__control:checked~label.sk-toggleable__label {background-color: #d4ebff;}#sk-container-id-2 input.sk-hidden--visually {border: 0;clip: rect(1px 1px 1px 1px);clip: rect(1px, 1px, 1px, 1px);height: 1px;margin: -1px;overflow: hidden;padding: 0;position: absolute;width: 1px;}#sk-container-id-2 div.sk-estimator {font-family: monospace;background-color: #f0f8ff;border: 1px dotted black;border-radius: 0.25em;box-sizing: border-box;margin-bottom: 0.5em;}#sk-container-id-2 div.sk-estimator:hover {background-color: #d4ebff;}#sk-container-id-2 div.sk-parallel-item::after {content: \"\";width: 100%;border-bottom: 1px solid gray;flex-grow: 1;}#sk-container-id-2 div.sk-label:hover label.sk-toggleable__label {background-color: #d4ebff;}#sk-container-id-2 div.sk-serial::before {content: \"\";position: absolute;border-left: 1px solid gray;box-sizing: border-box;top: 0;bottom: 0;left: 50%;z-index: 0;}#sk-container-id-2 div.sk-serial {display: flex;flex-direction: column;align-items: center;background-color: white;padding-right: 0.2em;padding-left: 0.2em;position: relative;}#sk-container-id-2 div.sk-item {position: relative;z-index: 1;}#sk-container-id-2 div.sk-parallel {display: flex;align-items: stretch;justify-content: center;background-color: white;position: relative;}#sk-container-id-2 div.sk-item::before, #sk-container-id-2 div.sk-parallel-item::before {content: \"\";position: absolute;border-left: 1px solid gray;box-sizing: border-box;top: 0;bottom: 0;left: 50%;z-index: -1;}#sk-container-id-2 div.sk-parallel-item {display: flex;flex-direction: column;z-index: 1;position: relative;background-color: white;}#sk-container-id-2 div.sk-parallel-item:first-child::after {align-self: flex-end;width: 50%;}#sk-container-id-2 div.sk-parallel-item:last-child::after {align-self: flex-start;width: 50%;}#sk-container-id-2 div.sk-parallel-item:only-child::after {width: 0;}#sk-container-id-2 div.sk-dashed-wrapped {border: 1px dashed gray;margin: 0 0.4em 0.5em 0.4em;box-sizing: border-box;padding-bottom: 0.4em;background-color: white;}#sk-container-id-2 div.sk-label label {font-family: monospace;font-weight: bold;display: inline-block;line-height: 1.2em;}#sk-container-id-2 div.sk-label-container {text-align: center;}#sk-container-id-2 div.sk-container {/* jupyter's `normalize.less` sets `[hidden] { display: none; }` but bootstrap.min.css set `[hidden] { display: none !important; }` so we also need the `!important` here to be able to override the default hidden behavior on the sphinx rendered scikit-learn.org. See: https://github.com/scikit-learn/scikit-learn/issues/21755 */display: inline-block !important;position: relative;}#sk-container-id-2 div.sk-text-repr-fallback {display: none;}</style><div id=\"sk-container-id-2\" class=\"sk-top-container\"><div class=\"sk-text-repr-fallback\"><pre>LogisticRegression()</pre><b>In a Jupyter environment, please rerun this cell to show the HTML representation or trust the notebook. <br />On GitHub, the HTML representation is unable to render, please try loading this page with nbviewer.org.</b></div><div class=\"sk-container\" hidden><div class=\"sk-item\"><div class=\"sk-estimator sk-toggleable\"><input class=\"sk-toggleable__control sk-hidden--visually\" id=\"sk-estimator-id-2\" type=\"checkbox\" checked><label for=\"sk-estimator-id-2\" class=\"sk-toggleable__label sk-toggleable__label-arrow\">LogisticRegression</label><div class=\"sk-toggleable__content\"><pre>LogisticRegression()</pre></div></div></div></div></div>"
      ],
      "text/plain": [
       "LogisticRegression()"
      ]
     },
     "execution_count": 47,
     "metadata": {},
     "output_type": "execute_result"
    }
   ],
   "source": [
    "log_model.fit(x_train,y_train)"
   ]
  },
  {
   "cell_type": "code",
   "execution_count": 48,
   "id": "308bee7c",
   "metadata": {},
   "outputs": [
    {
     "data": {
      "text/plain": [
       "0.9197530864197531"
      ]
     },
     "execution_count": 48,
     "metadata": {},
     "output_type": "execute_result"
    }
   ],
   "source": [
    "log_model.score(x_test,y_test)"
   ]
  },
  {
   "cell_type": "code",
   "execution_count": 49,
   "id": "2469cd1d",
   "metadata": {},
   "outputs": [
    {
     "data": {
      "text/plain": [
       "array([0], dtype=int64)"
      ]
     },
     "execution_count": 49,
     "metadata": {},
     "output_type": "execute_result"
    }
   ],
   "source": [
    "log_model.predict([[64,596]])"
   ]
  },
  {
   "cell_type": "code",
   "execution_count": 50,
   "id": "2f15d8cb",
   "metadata": {},
   "outputs": [],
   "source": [
    "from sklearn.model_selection import cross_val_score\n",
    "from sklearn.tree import DecisionTreeClassifier"
   ]
  },
  {
   "cell_type": "code",
   "execution_count": 51,
   "id": "1ccef8b8",
   "metadata": {},
   "outputs": [
    {
     "data": {
      "text/plain": [
       "array([0.8957529 , 0.89189189, 0.89189189, 0.89534884, 0.89534884])"
      ]
     },
     "execution_count": 51,
     "metadata": {},
     "output_type": "execute_result"
    }
   ],
   "source": [
    "cross_val_score(DecisionTreeClassifier(),x_train,y_train)"
   ]
  },
  {
   "cell_type": "code",
   "execution_count": 52,
   "id": "67e8a2e6",
   "metadata": {},
   "outputs": [],
   "source": [
    "dec_model = DecisionTreeClassifier()\n"
   ]
  },
  {
   "cell_type": "code",
   "execution_count": 53,
   "id": "6d1cc4f0",
   "metadata": {},
   "outputs": [
    {
     "data": {
      "text/html": [
       "<style>#sk-container-id-3 {color: black;}#sk-container-id-3 pre{padding: 0;}#sk-container-id-3 div.sk-toggleable {background-color: white;}#sk-container-id-3 label.sk-toggleable__label {cursor: pointer;display: block;width: 100%;margin-bottom: 0;padding: 0.3em;box-sizing: border-box;text-align: center;}#sk-container-id-3 label.sk-toggleable__label-arrow:before {content: \"▸\";float: left;margin-right: 0.25em;color: #696969;}#sk-container-id-3 label.sk-toggleable__label-arrow:hover:before {color: black;}#sk-container-id-3 div.sk-estimator:hover label.sk-toggleable__label-arrow:before {color: black;}#sk-container-id-3 div.sk-toggleable__content {max-height: 0;max-width: 0;overflow: hidden;text-align: left;background-color: #f0f8ff;}#sk-container-id-3 div.sk-toggleable__content pre {margin: 0.2em;color: black;border-radius: 0.25em;background-color: #f0f8ff;}#sk-container-id-3 input.sk-toggleable__control:checked~div.sk-toggleable__content {max-height: 200px;max-width: 100%;overflow: auto;}#sk-container-id-3 input.sk-toggleable__control:checked~label.sk-toggleable__label-arrow:before {content: \"▾\";}#sk-container-id-3 div.sk-estimator input.sk-toggleable__control:checked~label.sk-toggleable__label {background-color: #d4ebff;}#sk-container-id-3 div.sk-label input.sk-toggleable__control:checked~label.sk-toggleable__label {background-color: #d4ebff;}#sk-container-id-3 input.sk-hidden--visually {border: 0;clip: rect(1px 1px 1px 1px);clip: rect(1px, 1px, 1px, 1px);height: 1px;margin: -1px;overflow: hidden;padding: 0;position: absolute;width: 1px;}#sk-container-id-3 div.sk-estimator {font-family: monospace;background-color: #f0f8ff;border: 1px dotted black;border-radius: 0.25em;box-sizing: border-box;margin-bottom: 0.5em;}#sk-container-id-3 div.sk-estimator:hover {background-color: #d4ebff;}#sk-container-id-3 div.sk-parallel-item::after {content: \"\";width: 100%;border-bottom: 1px solid gray;flex-grow: 1;}#sk-container-id-3 div.sk-label:hover label.sk-toggleable__label {background-color: #d4ebff;}#sk-container-id-3 div.sk-serial::before {content: \"\";position: absolute;border-left: 1px solid gray;box-sizing: border-box;top: 0;bottom: 0;left: 50%;z-index: 0;}#sk-container-id-3 div.sk-serial {display: flex;flex-direction: column;align-items: center;background-color: white;padding-right: 0.2em;padding-left: 0.2em;position: relative;}#sk-container-id-3 div.sk-item {position: relative;z-index: 1;}#sk-container-id-3 div.sk-parallel {display: flex;align-items: stretch;justify-content: center;background-color: white;position: relative;}#sk-container-id-3 div.sk-item::before, #sk-container-id-3 div.sk-parallel-item::before {content: \"\";position: absolute;border-left: 1px solid gray;box-sizing: border-box;top: 0;bottom: 0;left: 50%;z-index: -1;}#sk-container-id-3 div.sk-parallel-item {display: flex;flex-direction: column;z-index: 1;position: relative;background-color: white;}#sk-container-id-3 div.sk-parallel-item:first-child::after {align-self: flex-end;width: 50%;}#sk-container-id-3 div.sk-parallel-item:last-child::after {align-self: flex-start;width: 50%;}#sk-container-id-3 div.sk-parallel-item:only-child::after {width: 0;}#sk-container-id-3 div.sk-dashed-wrapped {border: 1px dashed gray;margin: 0 0.4em 0.5em 0.4em;box-sizing: border-box;padding-bottom: 0.4em;background-color: white;}#sk-container-id-3 div.sk-label label {font-family: monospace;font-weight: bold;display: inline-block;line-height: 1.2em;}#sk-container-id-3 div.sk-label-container {text-align: center;}#sk-container-id-3 div.sk-container {/* jupyter's `normalize.less` sets `[hidden] { display: none; }` but bootstrap.min.css set `[hidden] { display: none !important; }` so we also need the `!important` here to be able to override the default hidden behavior on the sphinx rendered scikit-learn.org. See: https://github.com/scikit-learn/scikit-learn/issues/21755 */display: inline-block !important;position: relative;}#sk-container-id-3 div.sk-text-repr-fallback {display: none;}</style><div id=\"sk-container-id-3\" class=\"sk-top-container\"><div class=\"sk-text-repr-fallback\"><pre>DecisionTreeClassifier()</pre><b>In a Jupyter environment, please rerun this cell to show the HTML representation or trust the notebook. <br />On GitHub, the HTML representation is unable to render, please try loading this page with nbviewer.org.</b></div><div class=\"sk-container\" hidden><div class=\"sk-item\"><div class=\"sk-estimator sk-toggleable\"><input class=\"sk-toggleable__control sk-hidden--visually\" id=\"sk-estimator-id-3\" type=\"checkbox\" checked><label for=\"sk-estimator-id-3\" class=\"sk-toggleable__label sk-toggleable__label-arrow\">DecisionTreeClassifier</label><div class=\"sk-toggleable__content\"><pre>DecisionTreeClassifier()</pre></div></div></div></div></div>"
      ],
      "text/plain": [
       "DecisionTreeClassifier()"
      ]
     },
     "execution_count": 53,
     "metadata": {},
     "output_type": "execute_result"
    }
   ],
   "source": [
    "dec_model.fit(x_train,y_train)"
   ]
  },
  {
   "cell_type": "code",
   "execution_count": 54,
   "id": "5f8261a5",
   "metadata": {},
   "outputs": [
    {
     "data": {
      "text/plain": [
       "0.9197530864197531"
      ]
     },
     "execution_count": 54,
     "metadata": {},
     "output_type": "execute_result"
    }
   ],
   "source": [
    "dec_model.score(x_test,y_test)"
   ]
  },
  {
   "cell_type": "code",
   "execution_count": 55,
   "id": "d9bd6a4b",
   "metadata": {},
   "outputs": [],
   "source": [
    "from sklearn.metrics import confusion_matrix"
   ]
  },
  {
   "cell_type": "code",
   "execution_count": 56,
   "id": "4e95dbf3",
   "metadata": {},
   "outputs": [],
   "source": [
    "y_pred = model.predict(x_test)"
   ]
  },
  {
   "cell_type": "code",
   "execution_count": 57,
   "id": "3f711767",
   "metadata": {},
   "outputs": [],
   "source": [
    "cm = confusion_matrix(y_pred,y_test)"
   ]
  },
  {
   "cell_type": "code",
   "execution_count": 58,
   "id": "2925156f",
   "metadata": {},
   "outputs": [
    {
     "data": {
      "text/plain": [
       "<Axes: >"
      ]
     },
     "execution_count": 58,
     "metadata": {},
     "output_type": "execute_result"
    },
    {
     "data": {
      "image/png": "[encoded data removed]",
      "text/plain": [
       "<Figure size 640x480 with 2 Axes>"
      ]
     },
     "metadata": {},
     "output_type": "display_data"
    }
   ],
   "source": [
    "import seaborn as sn\n",
    "sn.heatmap(cm,annot=True)"
   ]
  },
  {
   "cell_type": "code",
   "execution_count": null,
   "id": "f00e79eb",
   "metadata": {},
   "outputs": [],
   "source": []
  },
  {
   "cell_type": "code",
   "execution_count": null,
   "id": "9e249398",
   "metadata": {},
   "outputs": [],
   "source": []
  }
 ],
 "metadata": {
  "kernelspec": {
   "display_name": "Python 3 (ipykernel)",
   "language": "python",
   "name": "python3"
  },
  "language_info": {
   "codemirror_mode": {
    "name": "ipython",
    "version": 3
   },
   "file_extension": ".py",
   "mimetype": "text/x-python",
   "name": "python",
   "nbconvert_exporter": "python",
   "pygments_lexer": "ipython3",
   "version": "3.11.5"
  }
 },
 "nbformat": 4,
 "nbformat_minor": 5
}
